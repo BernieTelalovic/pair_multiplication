{
 "cells": [
  {
   "cell_type": "markdown",
   "id": "82eec1b0",
   "metadata": {},
   "source": [
    "pair_multiplication is a Python library for working with Young Diagrams and pairs of Young diagrams.\n",
    "\n",
    "\n",
    "## Features\n",
    "\n",
    "- **NullDiagram**: Handles null cases of Young diagrams.\n",
    "- **YoungDiagram** inherits from *NullDiagram*: A class to create and manipulate Young diagrams.\n",
    "- **Pair** inherits from *YoungDiagram*: Represents a pair of Young diagrams.\n",
    "- **DirectSum** inherits from *dict*: Creates a direct sum of diagrams.\n",
    "- **DimensionDirectSum** inherits from *DirectSum*: Useful for quickly showing the dimensions and multiplicities of a direct sum\n",
    "\n",
    "## Installation\n",
    "\n",
    "Install the package using `pip`:\n",
    "\n",
    "```bash\n",
    "pip install git+https://github.com/BernieTelalovic/pair_multiplication.git\n",
    "\n",
    "```"
   ]
  },
  {
   "cell_type": "code",
   "execution_count": 1,
   "id": "005a7134",
   "metadata": {},
   "outputs": [],
   "source": [
    "from pair_multiplication import *"
   ]
  },
  {
   "cell_type": "markdown",
   "id": "865e102c",
   "metadata": {},
   "source": [
    "# YoungDiagram class construction"
   ]
  },
  {
   "cell_type": "markdown",
   "id": "9e2a2684",
   "metadata": {},
   "source": [
    "Starting from a partition tuple labelling a diagram, $(a_1,a_2,..)$ with $a_1\\geq a_2\\geq...$ being the number of boxes in each row labelled by the subscript, we can construct young diagrams:"
   ]
  },
  {
   "cell_type": "code",
   "execution_count": 2,
   "id": "fd1f679b",
   "metadata": {},
   "outputs": [],
   "source": [
    "yd = YoungDiagram((3,2,1))"
   ]
  },
  {
   "cell_type": "markdown",
   "id": "ba7d65fb",
   "metadata": {},
   "source": [
    "but not:"
   ]
  },
  {
   "cell_type": "code",
   "execution_count": 3,
   "id": "98f4a714",
   "metadata": {},
   "outputs": [
    {
     "ename": "ValueError",
     "evalue": "Not a young diagram.",
     "output_type": "error",
     "traceback": [
      "\u001b[0;31m---------------------------------------------------------------------------\u001b[0m",
      "\u001b[0;31mValueError\u001b[0m                                Traceback (most recent call last)",
      "Input \u001b[0;32mIn [3]\u001b[0m, in \u001b[0;36m<cell line: 1>\u001b[0;34m()\u001b[0m\n\u001b[0;32m----> 1\u001b[0m yd \u001b[38;5;241m=\u001b[39m \u001b[43mYoungDiagram\u001b[49m\u001b[43m(\u001b[49m\u001b[43m(\u001b[49m\u001b[38;5;241;43m1\u001b[39;49m\u001b[43m,\u001b[49m\u001b[38;5;241;43m2\u001b[39;49m\u001b[43m,\u001b[49m\u001b[38;5;241;43m3\u001b[39;49m\u001b[43m)\u001b[49m\u001b[43m)\u001b[49m\n",
      "File \u001b[0;32m~/Documents/birdtracks/pair_multiplication/pair_multiplication/classes.py:170\u001b[0m, in \u001b[0;36mYoungDiagram.__init__\u001b[0;34m(self, partition, Nc, barred, weight)\u001b[0m\n\u001b[1;32m    168\u001b[0m \u001b[38;5;28;01mif\u001b[39;00m \u001b[38;5;28mlen\u001b[39m(partition)\u001b[38;5;241m>\u001b[39m\u001b[38;5;241m1\u001b[39m:\n\u001b[1;32m    169\u001b[0m     \u001b[38;5;28;01mif\u001b[39;00m \u001b[38;5;129;01mnot\u001b[39;00m \u001b[38;5;28mall\u001b[39m(i \u001b[38;5;241m>\u001b[39m\u001b[38;5;241m=\u001b[39m j \u001b[38;5;28;01mfor\u001b[39;00m i, j \u001b[38;5;129;01min\u001b[39;00m \u001b[38;5;28mzip\u001b[39m(partition, partition[\u001b[38;5;241m1\u001b[39m:])):\n\u001b[0;32m--> 170\u001b[0m         \u001b[38;5;28;01mraise\u001b[39;00m \u001b[38;5;167;01mValueError\u001b[39;00m(\u001b[38;5;124m'\u001b[39m\u001b[38;5;124mNot a young diagram.\u001b[39m\u001b[38;5;124m'\u001b[39m)\n\u001b[1;32m    173\u001b[0m N0 \u001b[38;5;241m=\u001b[39m \u001b[38;5;28mlen\u001b[39m(partition)\n\u001b[1;32m    175\u001b[0m \u001b[38;5;28;01mif\u001b[39;00m \u001b[38;5;129;01mnot\u001b[39;00m (Nc \u001b[38;5;129;01mis\u001b[39;00m \u001b[38;5;28;01mNone\u001b[39;00m):\n",
      "\u001b[0;31mValueError\u001b[0m: Not a young diagram."
     ]
    }
   ],
   "source": [
    "yd = YoungDiagram((1,2,3)) # this is supposed to give an error, don't worry"
   ]
  },
  {
   "cell_type": "markdown",
   "id": "4b6a8ecd",
   "metadata": {},
   "source": [
    "### Quark-like Young Diagrams\n",
    "\n",
    "We will use conventional Young diagrams to label representations of quarks:"
   ]
  },
  {
   "cell_type": "code",
   "execution_count": 4,
   "id": "ea5c400e",
   "metadata": {},
   "outputs": [],
   "source": [
    "yd1 = YoungDiagram((3,2,1))"
   ]
  },
  {
   "cell_type": "code",
   "execution_count": 5,
   "id": "e0336649",
   "metadata": {},
   "outputs": [
    {
     "data": {
      "text/latex": [
       "$$ (3, 2, 1) $$"
      ],
      "text/plain": [
       "(3, 2, 1)"
      ]
     },
     "execution_count": 5,
     "metadata": {},
     "output_type": "execute_result"
    }
   ],
   "source": [
    "yd1"
   ]
  },
  {
   "cell_type": "markdown",
   "id": "2c721bc2",
   "metadata": {},
   "source": [
    "We can access the tuple corresponding to the partition:"
   ]
  },
  {
   "cell_type": "code",
   "execution_count": 6,
   "id": "49006cb8",
   "metadata": {},
   "outputs": [
    {
     "data": {
      "text/plain": [
       "(3, 2, 1)"
      ]
     },
     "execution_count": 6,
     "metadata": {},
     "output_type": "execute_result"
    }
   ],
   "source": [
    "yd1.partition"
   ]
  },
  {
   "cell_type": "markdown",
   "id": "778d9021",
   "metadata": {},
   "source": [
    "the lowest Nc for which this digram could exist:"
   ]
  },
  {
   "cell_type": "code",
   "execution_count": 7,
   "id": "b8b454b9",
   "metadata": {},
   "outputs": [
    {
     "data": {
      "text/plain": [
       "3"
      ]
     },
     "execution_count": 7,
     "metadata": {},
     "output_type": "execute_result"
    }
   ],
   "source": [
    "yd1.N0"
   ]
  },
  {
   "cell_type": "markdown",
   "id": "fe69ce15",
   "metadata": {},
   "source": [
    "its representation for a given Nc:"
   ]
  },
  {
   "cell_type": "code",
   "execution_count": 8,
   "id": "84fe2a50",
   "metadata": {},
   "outputs": [],
   "source": [
    "Nc = 3\n",
    "yd1_Nc3 = yd1.evaluate_for_Nc(Nc)"
   ]
  },
  {
   "cell_type": "code",
   "execution_count": 9,
   "id": "5e725cee",
   "metadata": {},
   "outputs": [
    {
     "data": {
      "text/latex": [
       "$$ (2, 1) $$"
      ],
      "text/plain": [
       "(2, 1)"
      ]
     },
     "execution_count": 9,
     "metadata": {},
     "output_type": "execute_result"
    }
   ],
   "source": [
    "yd1_Nc3"
   ]
  },
  {
   "cell_type": "markdown",
   "id": "d29346da",
   "metadata": {},
   "source": [
    "its dimension for a given Nc:"
   ]
  },
  {
   "cell_type": "code",
   "execution_count": 10,
   "id": "74afd0f7",
   "metadata": {},
   "outputs": [
    {
     "data": {
      "text/plain": [
       "8"
      ]
     },
     "execution_count": 10,
     "metadata": {},
     "output_type": "execute_result"
    }
   ],
   "source": [
    "yd1.dimension_Nc(Nc)"
   ]
  },
  {
   "cell_type": "markdown",
   "id": "05d28ab6",
   "metadata": {},
   "source": [
    "### Antiquark-like Young Diagrams\n",
    "\n",
    "We will use \"barred\" Young diagrams to label representations of quarks, arising from the adjoint representation:"
   ]
  },
  {
   "cell_type": "code",
   "execution_count": 11,
   "id": "25b7101f",
   "metadata": {},
   "outputs": [],
   "source": [
    "yd2 = YoungDiagram((3,2,1),barred = True)"
   ]
  },
  {
   "cell_type": "markdown",
   "id": "d6a02110",
   "metadata": {},
   "source": [
    "they are not the same objects!"
   ]
  },
  {
   "cell_type": "code",
   "execution_count": 12,
   "id": "be373ee2",
   "metadata": {},
   "outputs": [
    {
     "data": {
      "text/plain": [
       "False"
      ]
     },
     "execution_count": 12,
     "metadata": {},
     "output_type": "execute_result"
    }
   ],
   "source": [
    "yd1==yd2"
   ]
  },
  {
   "cell_type": "markdown",
   "id": "1bfa66fd",
   "metadata": {},
   "source": [
    "But when we evaluate a barred diagram for a given Nc, it becomes a conventional, unbarred Young diagram:"
   ]
  },
  {
   "cell_type": "code",
   "execution_count": 13,
   "id": "a2396462",
   "metadata": {},
   "outputs": [],
   "source": [
    "yd2_Nc3 = yd2.evaluate_for_Nc(Nc)"
   ]
  },
  {
   "cell_type": "code",
   "execution_count": 14,
   "id": "0fa9b04f",
   "metadata": {},
   "outputs": [
    {
     "data": {
      "text/latex": [
       "$$ (2, 1) $$"
      ],
      "text/plain": [
       "(2, 1)"
      ]
     },
     "execution_count": 14,
     "metadata": {},
     "output_type": "execute_result"
    }
   ],
   "source": [
    "yd2_Nc3"
   ]
  },
  {
   "cell_type": "markdown",
   "id": "09a4177b",
   "metadata": {},
   "source": [
    "in this case, its the same as the previous diagram when Nc=3:"
   ]
  },
  {
   "cell_type": "code",
   "execution_count": 15,
   "id": "c80a2f82",
   "metadata": {},
   "outputs": [
    {
     "data": {
      "text/plain": [
       "True"
      ]
     },
     "execution_count": 15,
     "metadata": {},
     "output_type": "execute_result"
    }
   ],
   "source": [
    "yd2_Nc3==yd1_Nc3"
   ]
  },
  {
   "cell_type": "markdown",
   "id": "1439bb44",
   "metadata": {},
   "source": [
    "# Multiplying Young diagrams - the DirectSum class"
   ]
  },
  {
   "cell_type": "markdown",
   "id": "3730057d",
   "metadata": {},
   "source": [
    "### (Un)barred diagram-(un)barred diagram multiplication\n",
    "\n",
    "Uses Littlewood-Richardson rule for diagram multiplication"
   ]
  },
  {
   "cell_type": "code",
   "execution_count": 16,
   "id": "5898419e",
   "metadata": {},
   "outputs": [],
   "source": [
    "yd_unbarred = YoungDiagram((2,1))"
   ]
  },
  {
   "cell_type": "code",
   "execution_count": 17,
   "id": "753f4378",
   "metadata": {},
   "outputs": [],
   "source": [
    "ydubr_tensor_ydubr = yd_unbarred*yd_unbarred"
   ]
  },
  {
   "cell_type": "markdown",
   "id": "835de448",
   "metadata": {},
   "source": [
    "The resulting object is a DirectSum class, which displays the direct (tensor) sum of YoungDiagram objects. The DirectSum class is a type of python dict, with keys being the YoungDiagram/Pair (more on these below) objects, and the values corresponding to the multiplicities. In the display, the constants are the multiplicities and their subscripts are the first Nc where this pair labels a young diagram."
   ]
  },
  {
   "cell_type": "code",
   "execution_count": 18,
   "id": "95d9412e",
   "metadata": {
    "scrolled": true
   },
   "outputs": [
    {
     "data": {
      "text/latex": [
       "$$ 1_{4}\\,(2, 2, 1, 1)\\oplus1_{3}\\,(4, 1, 1)\\oplus1_{2}\\,(3, 3)\\oplus1_{3}\\,(2, 2, 2)\\oplus1_{4}\\,(3, 1, 1, 1)\\oplus2_{3}\\,(3, 2, 1)\\oplus1_{2}\\,(4, 2) $$"
      ],
      "text/plain": [
       "{(2, 2, 1, 1): 1,\n",
       " (4, 1, 1): 1,\n",
       " (3, 3): 1,\n",
       " (2, 2, 2): 1,\n",
       " (3, 1, 1, 1): 1,\n",
       " (3, 2, 1): 2,\n",
       " (4, 2): 1}"
      ]
     },
     "execution_count": 18,
     "metadata": {},
     "output_type": "execute_result"
    }
   ],
   "source": [
    "ydubr_tensor_ydubr"
   ]
  },
  {
   "cell_type": "markdown",
   "id": "3823bf9a",
   "metadata": {},
   "source": [
    "the elements can be accessed using:"
   ]
  },
  {
   "cell_type": "code",
   "execution_count": 19,
   "id": "12b28fa1",
   "metadata": {},
   "outputs": [
    {
     "data": {
      "text/plain": [
       "dict_keys([(2, 2, 1, 1), (4, 1, 1), (3, 3), (2, 2, 2), (3, 1, 1, 1), (3, 2, 1), (4, 2)])"
      ]
     },
     "execution_count": 19,
     "metadata": {},
     "output_type": "execute_result"
    }
   ],
   "source": [
    "ydubr_tensor_ydubr.keys() # this returns dict_keys"
   ]
  },
  {
   "cell_type": "markdown",
   "id": "7646e542",
   "metadata": {},
   "source": [
    "or:"
   ]
  },
  {
   "cell_type": "code",
   "execution_count": 20,
   "id": "304cbcbf",
   "metadata": {},
   "outputs": [
    {
     "data": {
      "text/plain": [
       "[(2, 2, 1, 1), (4, 1, 1), (3, 3), (2, 2, 2), (3, 1, 1, 1), (3, 2, 1), (4, 2)]"
      ]
     },
     "execution_count": 20,
     "metadata": {},
     "output_type": "execute_result"
    }
   ],
   "source": [
    "ydubr_tensor_ydubr.elements()# this gives a list"
   ]
  },
  {
   "cell_type": "markdown",
   "id": "1be64222",
   "metadata": {},
   "source": [
    "the multiplicities can be recovered as a list in two ways as well:"
   ]
  },
  {
   "cell_type": "code",
   "execution_count": 21,
   "id": "ffe6c3bd",
   "metadata": {},
   "outputs": [
    {
     "data": {
      "text/plain": [
       "dict_values([1, 1, 1, 1, 1, 2, 1])"
      ]
     },
     "execution_count": 21,
     "metadata": {},
     "output_type": "execute_result"
    }
   ],
   "source": [
    "ydubr_tensor_ydubr.values()"
   ]
  },
  {
   "cell_type": "markdown",
   "id": "403206b6",
   "metadata": {},
   "source": [
    "or:"
   ]
  },
  {
   "cell_type": "code",
   "execution_count": 22,
   "id": "75f88f1a",
   "metadata": {},
   "outputs": [
    {
     "data": {
      "text/plain": [
       "[1, 1, 1, 1, 1, 2, 1]"
      ]
     },
     "execution_count": 22,
     "metadata": {},
     "output_type": "execute_result"
    }
   ],
   "source": [
    "ydubr_tensor_ydubr.multiplicities()"
   ]
  },
  {
   "cell_type": "markdown",
   "id": "d6e44a59",
   "metadata": {},
   "source": [
    "the lowest nc for each diagram can be separately recovered:"
   ]
  },
  {
   "cell_type": "code",
   "execution_count": 23,
   "id": "82b0f53e",
   "metadata": {},
   "outputs": [
    {
     "data": {
      "text/plain": [
       "[4, 3, 2, 3, 4, 3, 2]"
      ]
     },
     "execution_count": 23,
     "metadata": {},
     "output_type": "execute_result"
    }
   ],
   "source": [
    "ydubr_tensor_ydubr.lowest_Nc()"
   ]
  },
  {
   "cell_type": "markdown",
   "id": "0d305b6a",
   "metadata": {},
   "source": [
    "We can evaluate it under a given Nc:"
   ]
  },
  {
   "cell_type": "code",
   "execution_count": 24,
   "id": "dce84911",
   "metadata": {},
   "outputs": [],
   "source": [
    "Nc = 3\n",
    "ydubr_tensor_ydubr_nc3 = ydubr_tensor_ydubr.evaluate_for_Nc(Nc=Nc)"
   ]
  },
  {
   "cell_type": "code",
   "execution_count": 25,
   "id": "9dfee986",
   "metadata": {},
   "outputs": [
    {
     "data": {
      "text/latex": [
       "$$ 1_{1}\\,(3)\\oplus1_{2}\\,(3, 3)\\oplus1_{0}\\,()\\oplus1_{2}\\,(4, 2)\\oplus2_{2}\\,(2, 1) $$"
      ],
      "text/plain": [
       "{(3): 1, (3, 3): 1, (): 1, (4, 2): 1, (2, 1): 2}"
      ]
     },
     "execution_count": 25,
     "metadata": {},
     "output_type": "execute_result"
    }
   ],
   "source": [
    "ydubr_tensor_ydubr_nc3"
   ]
  },
  {
   "cell_type": "markdown",
   "id": "6e754ab9",
   "metadata": {},
   "source": [
    "we can get the dimension in the same way:"
   ]
  },
  {
   "cell_type": "code",
   "execution_count": 26,
   "id": "7711c743",
   "metadata": {},
   "outputs": [
    {
     "data": {
      "text/latex": [
       "$$ 2\\cdot8+1\\cdot1+2\\cdot10+1\\cdot27 $$"
      ],
      "text/plain": [
       "{8: 2, 1: 1, 10: 2, 27: 1}"
      ]
     },
     "execution_count": 26,
     "metadata": {},
     "output_type": "execute_result"
    }
   ],
   "source": [
    "ydubr_tensor_ydubr_nc3.dimension_Nc() # here the direct sum already knows which Nc we used"
   ]
  },
  {
   "cell_type": "markdown",
   "id": "b52cd0fa",
   "metadata": {},
   "source": [
    "and the sum:"
   ]
  },
  {
   "cell_type": "code",
   "execution_count": 27,
   "id": "ee1d6a17",
   "metadata": {},
   "outputs": [
    {
     "data": {
      "text/plain": [
       "64"
      ]
     },
     "execution_count": 27,
     "metadata": {},
     "output_type": "execute_result"
    }
   ],
   "source": [
    "ydubr_tensor_ydubr_nc3.dimension_Nc().sum()"
   ]
  },
  {
   "cell_type": "markdown",
   "id": "59619f02",
   "metadata": {},
   "source": [
    "Similar when multiplying two barred young diagrams:"
   ]
  },
  {
   "cell_type": "code",
   "execution_count": 28,
   "id": "70c03a09",
   "metadata": {},
   "outputs": [],
   "source": [
    "yd_barred = YoungDiagram((2,1),barred = True)\n",
    "ydbr_tensor_ydbr = yd_barred*yd_barred"
   ]
  },
  {
   "cell_type": "code",
   "execution_count": 29,
   "id": "bdce708c",
   "metadata": {},
   "outputs": [
    {
     "data": {
      "text/latex": [
       "$$ 1_{3}\\,\\overline{(4, 1, 1)}\\oplus1_{2}\\,\\overline{(3, 3)}\\oplus1_{4}\\,\\overline{(3, 1, 1, 1)}\\oplus1_{4}\\,\\overline{(2, 2, 1, 1)}\\oplus1_{3}\\,\\overline{(2, 2, 2)}\\oplus2_{3}\\,\\overline{(3, 2, 1)}\\oplus1_{2}\\,\\overline{(4, 2)} $$"
      ],
      "text/plain": [
       "{(4, 1, 1)_: 1,\n",
       " (3, 3)_: 1,\n",
       " (3, 1, 1, 1)_: 1,\n",
       " (2, 2, 1, 1)_: 1,\n",
       " (2, 2, 2)_: 1,\n",
       " (3, 2, 1)_: 2,\n",
       " (4, 2)_: 1}"
      ]
     },
     "execution_count": 29,
     "metadata": {},
     "output_type": "execute_result"
    }
   ],
   "source": [
    "ydbr_tensor_ydbr"
   ]
  },
  {
   "cell_type": "markdown",
   "id": "fd7d9347",
   "metadata": {},
   "source": [
    "We can also evaluate it under an Nc:"
   ]
  },
  {
   "cell_type": "code",
   "execution_count": 30,
   "id": "41376b3c",
   "metadata": {},
   "outputs": [],
   "source": [
    "ydbr_tensor_ydbr_nc3 = ydbr_tensor_ydbr.evaluate_for_Nc(Nc=Nc)"
   ]
  },
  {
   "cell_type": "code",
   "execution_count": 31,
   "id": "f3a8b96c",
   "metadata": {},
   "outputs": [
    {
     "data": {
      "text/latex": [
       "$$ 1_{1}\\,(3)\\oplus1_{2}\\,(3, 3)\\oplus1_{0}\\,()\\oplus1_{2}\\,(4, 2)\\oplus2_{2}\\,(2, 1) $$"
      ],
      "text/plain": [
       "{(3): 1, (3, 3): 1, (): 1, (4, 2): 1, (2, 1): 2}"
      ]
     },
     "execution_count": 31,
     "metadata": {},
     "output_type": "execute_result"
    }
   ],
   "source": [
    "ydbr_tensor_ydbr_nc3"
   ]
  },
  {
   "cell_type": "markdown",
   "id": "9f87cedd",
   "metadata": {},
   "source": [
    "this is now the same as the DirectSum containing the first tensor multiple above:"
   ]
  },
  {
   "cell_type": "code",
   "execution_count": 32,
   "id": "2223580d",
   "metadata": {},
   "outputs": [
    {
     "data": {
      "text/plain": [
       "True"
      ]
     },
     "execution_count": 32,
     "metadata": {},
     "output_type": "execute_result"
    }
   ],
   "source": [
    "ydbr_tensor_ydbr_nc3==ydubr_tensor_ydubr_nc3"
   ]
  },
  {
   "cell_type": "markdown",
   "id": "ca634bc2",
   "metadata": {},
   "source": [
    "we can also get the dimensions directly (this time specifying the Nc)"
   ]
  },
  {
   "cell_type": "code",
   "execution_count": 33,
   "id": "4bf38b53",
   "metadata": {},
   "outputs": [
    {
     "name": "stderr",
     "output_type": "stream",
     "text": [
      "/home/anduril/Documents/birdtracks/pair_multiplication/pair_multiplication/classes.py:306: UserWarning: Young diagram pair not admissible under given Nc. Returning null diagram.\n",
      "  warnings.warn('Young diagram pair not admissible under given Nc. Returning null diagram.')\n"
     ]
    },
    {
     "data": {
      "text/latex": [
       "$$ 2\\cdot8+1\\cdot1+2\\cdot10+1\\cdot27 $$"
      ],
      "text/plain": [
       "{8: 2, 1: 1, 10: 2, 27: 1}"
      ]
     },
     "execution_count": 33,
     "metadata": {},
     "output_type": "execute_result"
    }
   ],
   "source": [
    "ydbr_tensor_ydbr.dimension_Nc(Nc=Nc)"
   ]
  },
  {
   "cell_type": "markdown",
   "id": "efb11443",
   "metadata": {},
   "source": [
    "# Barred diagram-unbarred diagram multiplication - the Pair class\n",
    "\n",
    "We do the multiplication using King's Q rule for diagram multiplication"
   ]
  },
  {
   "cell_type": "code",
   "execution_count": 34,
   "id": "b0955055",
   "metadata": {},
   "outputs": [],
   "source": [
    "yd_barred = YoungDiagram((2,1),barred = True)\n",
    "yd_unbarred = YoungDiagram((2,1))\n",
    "\n",
    "barred_tensor_unbarred = yd_barred*yd_unbarred"
   ]
  },
  {
   "cell_type": "markdown",
   "id": "7faf64b1",
   "metadata": {},
   "source": [
    "The results is a DirectSum of Pair objects, where the first partition is always the barred diagram, the second is always the unbarred diagram."
   ]
  },
  {
   "cell_type": "code",
   "execution_count": 35,
   "id": "1044b6ff",
   "metadata": {
    "scrolled": true
   },
   "outputs": [
    {
     "data": {
      "text/latex": [
       "$$ 1_{4}\\left(\\overline{(2, 1)},(2, 1)\\right)\\oplus1_{4}\\left(\\overline{(1, 1)},(1, 1)\\right)\\oplus1_{2}\\left(\\overline{(2)},(2)\\right)\\oplus1_{3}\\left(\\overline{(2)},(1, 1)\\right)\\oplus1_{3}\\left(\\overline{(1, 1)},(2)\\right)\\oplus2_{2}\\left(\\overline{(1)},(1)\\right)\\oplus1_{0}\\left(\\overline{()},()\\right) $$"
      ],
      "text/plain": [
       "{[4]((2, 1),(2, 1)): 1,\n",
       " [4]((1, 1),(1, 1)): 1,\n",
       " [2]((2),(2)): 1,\n",
       " [3]((2),(1, 1)): 1,\n",
       " [3]((1, 1),(2)): 1,\n",
       " [2]((1),(1)): 2,\n",
       " [0]((),()): 1}"
      ]
     },
     "execution_count": 35,
     "metadata": {},
     "output_type": "execute_result"
    }
   ],
   "source": [
    "barred_tensor_unbarred"
   ]
  },
  {
   "cell_type": "markdown",
   "id": "66abca24",
   "metadata": {},
   "source": [
    "To construct a pair we can either give a tuple of partitions (the first one is always the barred one)"
   ]
  },
  {
   "cell_type": "code",
   "execution_count": 36,
   "id": "c4079571",
   "metadata": {},
   "outputs": [
    {
     "name": "stderr",
     "output_type": "stream",
     "text": [
      "/home/anduril/Documents/birdtracks/pair_multiplication/pair_multiplication/classes.py:504: UserWarning: Class Pair under construction. Proceed with caution!\n",
      "  warnings.warn('Class Pair under construction. Proceed with caution!')\n"
     ]
    }
   ],
   "source": [
    "pair_from_partitions = Pair(((2,1),(2,1)))"
   ]
  },
  {
   "cell_type": "markdown",
   "id": "7cc005c9",
   "metadata": {},
   "source": [
    "The multiple of 1 next to it stores the lowest Nc as its subscript"
   ]
  },
  {
   "cell_type": "code",
   "execution_count": 37,
   "id": "cbe8a7b4",
   "metadata": {},
   "outputs": [
    {
     "data": {
      "text/latex": [
       "$$ 1_{4}\\left(\\overline{(2, 1)},(2, 1)\\right) $$"
      ],
      "text/plain": [
       "[4]((2, 1),(2, 1))"
      ]
     },
     "execution_count": 37,
     "metadata": {},
     "output_type": "execute_result"
    }
   ],
   "source": [
    "pair_from_partitions"
   ]
  },
  {
   "cell_type": "markdown",
   "id": "78726c5d",
   "metadata": {},
   "source": [
    "we can also construct it using two Young diagrams:"
   ]
  },
  {
   "cell_type": "code",
   "execution_count": 38,
   "id": "40e37d5a",
   "metadata": {},
   "outputs": [
    {
     "name": "stderr",
     "output_type": "stream",
     "text": [
      "/home/anduril/Documents/birdtracks/pair_multiplication/pair_multiplication/classes.py:504: UserWarning: Class Pair under construction. Proceed with caution!\n",
      "  warnings.warn('Class Pair under construction. Proceed with caution!')\n"
     ]
    }
   ],
   "source": [
    "yd_barred = YoungDiagram((2,1),barred = True)\n",
    "yd_unbarred = YoungDiagram((2,1))\n",
    "\n",
    "pair_from_diagrams = Pair((yd_barred,yd_unbarred))"
   ]
  },
  {
   "cell_type": "markdown",
   "id": "aa1cfb4a",
   "metadata": {},
   "source": [
    "they're the same:"
   ]
  },
  {
   "cell_type": "code",
   "execution_count": 39,
   "id": "70be5f84",
   "metadata": {},
   "outputs": [
    {
     "data": {
      "text/plain": [
       "True"
      ]
     },
     "execution_count": 39,
     "metadata": {},
     "output_type": "execute_result"
    }
   ],
   "source": [
    "pair_from_partitions==pair_from_diagrams"
   ]
  },
  {
   "cell_type": "markdown",
   "id": "ed7520ee",
   "metadata": {},
   "source": [
    "another way is to pair one Young diagram with either a partition:"
   ]
  },
  {
   "cell_type": "code",
   "execution_count": 40,
   "id": "3374075b",
   "metadata": {},
   "outputs": [
    {
     "name": "stderr",
     "output_type": "stream",
     "text": [
      "/home/anduril/Documents/birdtracks/pair_multiplication/pair_multiplication/classes.py:504: UserWarning: Class Pair under construction. Proceed with caution!\n",
      "  warnings.warn('Class Pair under construction. Proceed with caution!')\n"
     ]
    }
   ],
   "source": [
    "pair_from_diag_and_partition = yd_barred.pair_with((2,1))"
   ]
  },
  {
   "cell_type": "markdown",
   "id": "1b590fc8",
   "metadata": {},
   "source": [
    "(when using this method, the given partition will create a diagram that is unbarred if yd_barred and vice-versa.)"
   ]
  },
  {
   "cell_type": "markdown",
   "id": "d2bd9b84",
   "metadata": {},
   "source": [
    "We can pair a diagram with another diagram:"
   ]
  },
  {
   "cell_type": "code",
   "execution_count": 41,
   "id": "256214b0",
   "metadata": {},
   "outputs": [],
   "source": [
    "pair_from_diag_and_diag = yd_barred.pair_with(yd_unbarred)"
   ]
  },
  {
   "cell_type": "markdown",
   "id": "efe6a826",
   "metadata": {},
   "source": [
    "(in this case, one must be barred and one must be unbarred, but they can be given in either order.)"
   ]
  },
  {
   "cell_type": "markdown",
   "id": "46c23e1c",
   "metadata": {},
   "source": [
    "they're all the same:"
   ]
  },
  {
   "cell_type": "code",
   "execution_count": 42,
   "id": "c5b4c4aa",
   "metadata": {},
   "outputs": [
    {
     "data": {
      "text/plain": [
       "True"
      ]
     },
     "execution_count": 42,
     "metadata": {},
     "output_type": "execute_result"
    }
   ],
   "source": [
    "pair_from_partitions==pair_from_diag_and_diag and pair_from_diag_and_diag==pair_from_diag_and_partition"
   ]
  },
  {
   "cell_type": "markdown",
   "id": "db5e5c3a",
   "metadata": {},
   "source": [
    "we can evaluate the Young diagram resulting from a given Nc in the usual way:"
   ]
  },
  {
   "cell_type": "code",
   "execution_count": 43,
   "id": "cbea2d28",
   "metadata": {},
   "outputs": [],
   "source": [
    "yd_Nc7 = pair_from_partitions.evaluate_for_Nc(Nc=7)"
   ]
  },
  {
   "cell_type": "code",
   "execution_count": 44,
   "id": "d6d81c82",
   "metadata": {},
   "outputs": [
    {
     "data": {
      "text/latex": [
       "$$ (4, 3, 2, 2, 2, 1) $$"
      ],
      "text/plain": [
       "(4, 3, 2, 2, 2, 1)"
      ]
     },
     "execution_count": 44,
     "metadata": {},
     "output_type": "execute_result"
    }
   ],
   "source": [
    "yd_Nc7"
   ]
  },
  {
   "cell_type": "markdown",
   "id": "a4184328",
   "metadata": {},
   "source": [
    "For an Nc lower than this diagrams lowest Nc, we get a NullDiagram "
   ]
  },
  {
   "cell_type": "code",
   "execution_count": 45,
   "id": "e9dd2fc0",
   "metadata": {},
   "outputs": [
    {
     "name": "stderr",
     "output_type": "stream",
     "text": [
      "/home/anduril/Documents/birdtracks/pair_multiplication/pair_multiplication/classes.py:625: UserWarning: Conjugate not admissible under given Nc.\n",
      "  warnings.warn('Conjugate not admissible under given Nc.')\n"
     ]
    },
    {
     "data": {
      "text/latex": [
       "$$ None $$"
      ],
      "text/plain": [
       "None"
      ]
     },
     "execution_count": 45,
     "metadata": {},
     "output_type": "execute_result"
    }
   ],
   "source": [
    "pair_from_partitions.evaluate_for_Nc(Nc=3)"
   ]
  },
  {
   "cell_type": "markdown",
   "id": "142d883c",
   "metadata": {},
   "source": [
    "## Coming soon:\n",
    "\n",
    " - pair multiplication with diagram (in progress)\n",
    " - pair-pair multiplication (when I figure out how)\n",
    " - better handling of diagram multiplicities\n",
    " - better documentation and testing\n",
    " - more Latexing functions!"
   ]
  }
 ],
 "metadata": {
  "kernelspec": {
   "display_name": "Python 3 (ipykernel)",
   "language": "python",
   "name": "python3"
  },
  "language_info": {
   "codemirror_mode": {
    "name": "ipython",
    "version": 3
   },
   "file_extension": ".py",
   "mimetype": "text/x-python",
   "name": "python",
   "nbconvert_exporter": "python",
   "pygments_lexer": "ipython3",
   "version": "3.10.11"
  }
 },
 "nbformat": 4,
 "nbformat_minor": 5
}
