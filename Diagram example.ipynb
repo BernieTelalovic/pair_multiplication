{
 "cells": [
  {
   "cell_type": "code",
   "execution_count": 1,
   "id": "005a7134",
   "metadata": {},
   "outputs": [],
   "source": [
    "from pair_multiplication import *"
   ]
  },
  {
   "cell_type": "markdown",
   "id": "9e2a2684",
   "metadata": {},
   "source": [
    "Starting from a partition tuple labelling a diagram, $(a_1,a_2,..)$ with $a_1\\geq a_2\\geq...$ being the number of boxes in each row labelled by the subscript, we can construct young diagrams:"
   ]
  },
  {
   "cell_type": "code",
   "execution_count": 2,
   "id": "ea5c400e",
   "metadata": {},
   "outputs": [],
   "source": [
    "d1 = YoungDiagram((1,1))\n",
    "d2 = YoungDiagram((2),barred = True)"
   ]
  },
  {
   "cell_type": "markdown",
   "id": "8e4469ff",
   "metadata": {},
   "source": [
    "And we can recognise tuples that do not label a young diagram:"
   ]
  },
  {
   "cell_type": "code",
   "execution_count": 3,
   "id": "5d3cf7e0",
   "metadata": {},
   "outputs": [
    {
     "ename": "ValueError",
     "evalue": "Not a young diagram.",
     "output_type": "error",
     "traceback": [
      "\u001b[0;31m---------------------------------------------------------------------------\u001b[0m",
      "\u001b[0;31mValueError\u001b[0m                                Traceback (most recent call last)",
      "Input \u001b[0;32mIn [3]\u001b[0m, in \u001b[0;36m<cell line: 1>\u001b[0;34m()\u001b[0m\n\u001b[0;32m----> 1\u001b[0m \u001b[43mYoungDiagram\u001b[49m\u001b[43m(\u001b[49m\u001b[43m(\u001b[49m\u001b[38;5;241;43m1\u001b[39;49m\u001b[43m,\u001b[49m\u001b[38;5;241;43m2\u001b[39;49m\u001b[43m)\u001b[49m\u001b[43m)\u001b[49m\n",
      "File \u001b[0;32m~/Documents/birdtracks/pair_multiplication/pair_multiplication/classes.py:19\u001b[0m, in \u001b[0;36mYoungDiagram.__init__\u001b[0;34m(self, partition, Nc, barred, weight)\u001b[0m\n\u001b[1;32m     17\u001b[0m \u001b[38;5;28;01mif\u001b[39;00m \u001b[38;5;28mlen\u001b[39m(partition)\u001b[38;5;241m>\u001b[39m\u001b[38;5;241m1\u001b[39m:\n\u001b[1;32m     18\u001b[0m     \u001b[38;5;28;01mif\u001b[39;00m \u001b[38;5;129;01mnot\u001b[39;00m \u001b[38;5;28mall\u001b[39m(i \u001b[38;5;241m>\u001b[39m\u001b[38;5;241m=\u001b[39m j \u001b[38;5;28;01mfor\u001b[39;00m i, j \u001b[38;5;129;01min\u001b[39;00m \u001b[38;5;28mzip\u001b[39m(partition, partition[\u001b[38;5;241m1\u001b[39m:])):\n\u001b[0;32m---> 19\u001b[0m         \u001b[38;5;28;01mraise\u001b[39;00m \u001b[38;5;167;01mValueError\u001b[39;00m(\u001b[38;5;124m'\u001b[39m\u001b[38;5;124mNot a young diagram.\u001b[39m\u001b[38;5;124m'\u001b[39m)\n\u001b[1;32m     21\u001b[0m \u001b[38;5;28mself\u001b[39m\u001b[38;5;241m.\u001b[39mbarred \u001b[38;5;241m=\u001b[39m barred\n\u001b[1;32m     22\u001b[0m \u001b[38;5;28mself\u001b[39m\u001b[38;5;241m.\u001b[39mNc \u001b[38;5;241m=\u001b[39m Nc\n",
      "\u001b[0;31mValueError\u001b[0m: Not a young diagram."
     ]
    }
   ],
   "source": [
    "YoungDiagram((1,2))"
   ]
  },
  {
   "cell_type": "markdown",
   "id": "1c73d615",
   "metadata": {},
   "source": [
    "we can directly print them:"
   ]
  },
  {
   "cell_type": "code",
   "execution_count": 4,
   "id": "70390193",
   "metadata": {},
   "outputs": [
    {
     "data": {
      "text/latex": [
       "$$ (1, 1) $$"
      ],
      "text/plain": [
       "(1, 1)"
      ]
     },
     "execution_count": 4,
     "metadata": {},
     "output_type": "execute_result"
    }
   ],
   "source": [
    "d1"
   ]
  },
  {
   "cell_type": "code",
   "execution_count": 5,
   "id": "7d20b274",
   "metadata": {},
   "outputs": [
    {
     "data": {
      "text/latex": [
       "$$ \\overline{(2)} $$"
      ],
      "text/plain": [
       "(2)_"
      ]
     },
     "execution_count": 5,
     "metadata": {},
     "output_type": "execute_result"
    }
   ],
   "source": [
    "d2"
   ]
  },
  {
   "cell_type": "markdown",
   "id": "85c1ad54",
   "metadata": {},
   "source": [
    "or get the Latex script that gives the same output:"
   ]
  },
  {
   "cell_type": "code",
   "execution_count": 6,
   "id": "031ee565",
   "metadata": {},
   "outputs": [
    {
     "name": "stdout",
     "output_type": "stream",
     "text": [
      "(1, 1)\n"
     ]
    }
   ],
   "source": [
    "print(d1)"
   ]
  },
  {
   "cell_type": "code",
   "execution_count": 7,
   "id": "f217e52b",
   "metadata": {},
   "outputs": [
    {
     "name": "stdout",
     "output_type": "stream",
     "text": [
      "\\overline{(2)}\n"
     ]
    }
   ],
   "source": [
    "print(d2)"
   ]
  },
  {
   "cell_type": "markdown",
   "id": "b6f336a4",
   "metadata": {},
   "source": [
    "We can multiply them, to get a DirectSum object. It functions like a dictionary, with keys being YoungDiagram, or pairs of young diagrams, and the values being their multiplicities in the direct sum."
   ]
  },
  {
   "cell_type": "code",
   "execution_count": 8,
   "id": "28b5969e",
   "metadata": {
    "scrolled": false
   },
   "outputs": [
    {
     "data": {
      "text/plain": [
       "{(2, 2): 1, (2, 1, 1): 1, (1, 1, 1, 1): 1}"
      ]
     },
     "execution_count": 8,
     "metadata": {},
     "output_type": "execute_result"
    }
   ],
   "source": [
    "d1_tensor_d1 = d1*d1\n",
    "d1_tensor_d1"
   ]
  },
  {
   "cell_type": "markdown",
   "id": "4f6f65a6",
   "metadata": {},
   "source": [
    "we can also add direct sums (equal terms are immediately simplidied, i.e., their multiplicities are summed)"
   ]
  },
  {
   "cell_type": "code",
   "execution_count": 9,
   "id": "d0bbc96a",
   "metadata": {},
   "outputs": [
    {
     "data": {
      "text/plain": [
       "{(1, 1): 1, (2, 2): 1, (2, 1, 1): 1, (1, 1, 1, 1): 1}"
      ]
     },
     "execution_count": 9,
     "metadata": {},
     "output_type": "execute_result"
    }
   ],
   "source": [
    "d1_tensor_d1+d1"
   ]
  },
  {
   "cell_type": "code",
   "execution_count": 10,
   "id": "c9616fa4",
   "metadata": {},
   "outputs": [
    {
     "data": {
      "text/plain": [
       "{(2, 2): 1, (1, 1): 2, (2, 1, 1): 1, (1, 1, 1, 1): 1}"
      ]
     },
     "execution_count": 10,
     "metadata": {},
     "output_type": "execute_result"
    }
   ],
   "source": [
    "d1_tensor_d1+d1+d1"
   ]
  },
  {
   "cell_type": "markdown",
   "id": "d6719302",
   "metadata": {},
   "source": [
    "When multiplying, $A\\otimes B$ or $\\overline{A}\\otimes\\overline{B}$ uses the LR rule."
   ]
  },
  {
   "cell_type": "code",
   "execution_count": 11,
   "id": "12e70e0a",
   "metadata": {
    "scrolled": true
   },
   "outputs": [
    {
     "data": {
      "text/plain": [
       "{(3, 1)_: 1, (2, 2)_: 1, (4)_: 1}"
      ]
     },
     "execution_count": 11,
     "metadata": {},
     "output_type": "execute_result"
    }
   ],
   "source": [
    "d2*d2"
   ]
  },
  {
   "cell_type": "markdown",
   "id": "9d42005b",
   "metadata": {},
   "source": [
    "$A\\otimes \\overline{B}$ uses the Q rule from King, and returns diagram pairs with first-occurence $N_c$ given in square brackets. In a pair $[\\alpha](C,D)$, the first entry, $C$ is implicitly understood to be barred, and $\\alpha$ is the $N_c$ of the diagram first occurence."
   ]
  },
  {
   "cell_type": "code",
   "execution_count": 12,
   "id": "56936769",
   "metadata": {},
   "outputs": [
    {
     "name": "stderr",
     "output_type": "stream",
     "text": [
      "/home/anduril/Documents/birdtracks/pair_multiplication/pair_multiplication/classes.py:280: UserWarning: Class Pair under construction. Proceed with caution!\n",
      "  warnings.warn('Class Pair under construction. Proceed with caution!')\n"
     ]
    },
    {
     "data": {
      "text/plain": [
       "{[2]((1),(1)): 1, [3]((2),(1, 1)): 1}"
      ]
     },
     "execution_count": 12,
     "metadata": {},
     "output_type": "execute_result"
    }
   ],
   "source": [
    "d1_tensor_d2 = d1*d2\n",
    "d1_tensor_d2"
   ]
  },
  {
   "cell_type": "markdown",
   "id": "7e944f30",
   "metadata": {},
   "source": [
    "When adding DirectSums, diagrams (and/or pairs) with the same partition (pair of partitions) are ony stacked if they have the same first occurence:"
   ]
  },
  {
   "cell_type": "code",
   "execution_count": 13,
   "id": "91546ba5",
   "metadata": {
    "scrolled": true
   },
   "outputs": [],
   "source": [
    "p1 = Pair(((1),(1)), inherited_N0=3) # a higher first occurence\n",
    "p2 = Pair(((1),(1)))"
   ]
  },
  {
   "cell_type": "code",
   "execution_count": 14,
   "id": "1ac7efd0",
   "metadata": {},
   "outputs": [
    {
     "data": {
      "text/plain": [
       "False"
      ]
     },
     "execution_count": 14,
     "metadata": {},
     "output_type": "execute_result"
    }
   ],
   "source": [
    "p2==p1"
   ]
  },
  {
   "cell_type": "code",
   "execution_count": 15,
   "id": "52c05470",
   "metadata": {},
   "outputs": [
    {
     "data": {
      "text/plain": [
       "{[2]((1),(1)): 1, [3]((2),(1, 1)): 1, [3]((1),(1)): 1}"
      ]
     },
     "execution_count": 15,
     "metadata": {},
     "output_type": "execute_result"
    }
   ],
   "source": [
    "sum_p1 = d1_tensor_d2+p1\n",
    "sum_p1"
   ]
  },
  {
   "cell_type": "code",
   "execution_count": 16,
   "id": "19d8c0fc",
   "metadata": {},
   "outputs": [
    {
     "data": {
      "text/plain": [
       "{[2]((1),(1)): 2, [3]((2),(1, 1)): 1}"
      ]
     },
     "execution_count": 16,
     "metadata": {},
     "output_type": "execute_result"
    }
   ],
   "source": [
    "sum_p2 = d1_tensor_d2+p2\n",
    "sum_p2"
   ]
  },
  {
   "cell_type": "markdown",
   "id": "0bacdf3e",
   "metadata": {},
   "source": [
    "We can conjugate diagrams for a given $N_c$:"
   ]
  },
  {
   "cell_type": "code",
   "execution_count": 17,
   "id": "fcf1bfdd",
   "metadata": {},
   "outputs": [
    {
     "data": {
      "text/latex": [
       "$$ \\overline{(1)} $$"
      ],
      "text/plain": [
       "(1)_"
      ]
     },
     "execution_count": 17,
     "metadata": {},
     "output_type": "execute_result"
    }
   ],
   "source": [
    "d1.conjugate(Nc = 3)"
   ]
  },
  {
   "cell_type": "code",
   "execution_count": 18,
   "id": "3012794e",
   "metadata": {},
   "outputs": [
    {
     "name": "stderr",
     "output_type": "stream",
     "text": [
      "/home/anduril/Documents/birdtracks/pair_multiplication/pair_multiplication/classes.py:176: UserWarning: Young diagram pair not admissible under given Nc.Returning null diagram.\n",
      "  warnings.warn('Young diagram pair not admissible under given Nc.'+\\\n"
     ]
    },
    {
     "data": {
      "text/latex": [
       "$$ None $$"
      ],
      "text/plain": [
       "None"
      ]
     },
     "execution_count": 18,
     "metadata": {},
     "output_type": "execute_result"
    }
   ],
   "source": [
    "d1.conjugate(Nc = 1)"
   ]
  },
  {
   "cell_type": "markdown",
   "id": "7640c4c5",
   "metadata": {},
   "source": [
    "We can conjugate pairs:"
   ]
  },
  {
   "cell_type": "code",
   "execution_count": 19,
   "id": "b4038b73",
   "metadata": {},
   "outputs": [
    {
     "data": {
      "text/latex": [
       "$$ (2, 1, 1) $$"
      ],
      "text/plain": [
       "(2, 1, 1)"
      ]
     },
     "execution_count": 19,
     "metadata": {},
     "output_type": "execute_result"
    }
   ],
   "source": [
    "p1.conjugate(Nc=4)"
   ]
  },
  {
   "cell_type": "code",
   "execution_count": 20,
   "id": "0e393c72",
   "metadata": {
    "scrolled": true
   },
   "outputs": [
    {
     "name": "stderr",
     "output_type": "stream",
     "text": [
      "/home/anduril/Documents/birdtracks/pair_multiplication/pair_multiplication/classes.py:372: UserWarning: Conjugate not admissible under given Nc.\n",
      "  warnings.warn('Conjugate not admissible under given Nc.')\n"
     ]
    },
    {
     "data": {
      "text/latex": [
       "$$ None $$"
      ],
      "text/plain": [
       "None"
      ]
     },
     "execution_count": 20,
     "metadata": {},
     "output_type": "execute_result"
    }
   ],
   "source": [
    "p1.conjugate(Nc=1)"
   ]
  },
  {
   "cell_type": "markdown",
   "id": "7eb5ef54",
   "metadata": {},
   "source": [
    "we can even conjugate DirectSums!"
   ]
  },
  {
   "cell_type": "code",
   "execution_count": 21,
   "id": "478d97b6",
   "metadata": {},
   "outputs": [
    {
     "data": {
      "text/plain": [
       "{[2]((1),(1)): 2, [3]((2),(1, 1)): 1}"
      ]
     },
     "execution_count": 21,
     "metadata": {},
     "output_type": "execute_result"
    }
   ],
   "source": [
    "sum_p2"
   ]
  },
  {
   "cell_type": "code",
   "execution_count": 22,
   "id": "8d6c7c5d",
   "metadata": {},
   "outputs": [
    {
     "data": {
      "text/plain": [
       "{(3, 3, 2): 1, (2, 1, 1): 2}"
      ]
     },
     "execution_count": 22,
     "metadata": {},
     "output_type": "execute_result"
    }
   ],
   "source": [
    "sum_p2.conjugate(Nc = 4)"
   ]
  },
  {
   "cell_type": "code",
   "execution_count": 23,
   "id": "3f24eac5",
   "metadata": {},
   "outputs": [
    {
     "data": {
      "text/plain": [
       "{(2): 2}"
      ]
     },
     "execution_count": 23,
     "metadata": {},
     "output_type": "execute_result"
    }
   ],
   "source": [
    "sum_p2.conjugate(Nc = 2)"
   ]
  },
  {
   "cell_type": "markdown",
   "id": "142d883c",
   "metadata": {},
   "source": [
    "Coming soon:\n",
    "\n",
    " - pair multiplication with diagram (in progress)\n",
    " - pair-pair multiplication (when I figure out how)\n",
    " - better handling of diagram multiplicities\n",
    " - better documentation and testing\n",
    " - more Latexing functions!"
   ]
  },
  {
   "cell_type": "code",
   "execution_count": null,
   "id": "056fa3a4",
   "metadata": {},
   "outputs": [],
   "source": []
  }
 ],
 "metadata": {
  "kernelspec": {
   "display_name": "Python 3 (ipykernel)",
   "language": "python",
   "name": "python3"
  },
  "language_info": {
   "codemirror_mode": {
    "name": "ipython",
    "version": 3
   },
   "file_extension": ".py",
   "mimetype": "text/x-python",
   "name": "python",
   "nbconvert_exporter": "python",
   "pygments_lexer": "ipython3",
   "version": "3.10.11"
  }
 },
 "nbformat": 4,
 "nbformat_minor": 5
}
