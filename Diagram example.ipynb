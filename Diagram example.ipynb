{
 "cells": [
  {
   "cell_type": "markdown",
   "id": "82eec1b0",
   "metadata": {},
   "source": [
    "pair_multiplication is a Python library for working with Young Diagrams and pairs of Young diagrams.\n",
    "\n",
    "\n",
    "## Features\n",
    "\n",
    "- **NullDiagram**: Handles null cases of Young diagrams.\n",
    "- **YoungDiagram** inherits from *NullDiagram*: A class to create and manipulate Young diagrams.\n",
    "- **Pair** inherits from *YoungDiagram*: Represents a pair of Young diagrams.\n",
    "- **DirectSum**: Creates a direct sum of diagrams, indexable like a numpy array.\n",
    "- **DimensionDirectSum**: Useful for quickly showing the dimensions and multiplicities of a direct sum\n",
    "\n",
    "The multiplication methods have been successfully numerically tested for all partitions generating diagram pairs up to 8 boxes in total (4 boxes in barred and 4 boxes in unbarred diagrams).\n",
    "\n",
    "## Installation\n",
    "\n",
    "Install the package using `pip`:\n",
    "\n",
    "```bash\n",
    "pip install git+https://github.com/BernieTelalovic/pair_multiplication.git\n",
    "\n",
    "```"
   ]
  },
  {
   "cell_type": "code",
   "execution_count": 1,
   "id": "005a7134",
   "metadata": {},
   "outputs": [],
   "source": [
    "from pair_multiplication import *"
   ]
  },
  {
   "cell_type": "markdown",
   "id": "865e102c",
   "metadata": {},
   "source": [
    "# YoungDiagram class construction"
   ]
  },
  {
   "cell_type": "markdown",
   "id": "9e2a2684",
   "metadata": {},
   "source": [
    "Starting from a partition tuple labelling a diagram, $(a_1,a_2,..)$ with $a_1\\geq a_2\\geq...$ being the number of boxes in each row labelled by the subscript, we can construct young diagrams:"
   ]
  },
  {
   "cell_type": "code",
   "execution_count": 2,
   "id": "fd1f679b",
   "metadata": {},
   "outputs": [],
   "source": [
    "yd = YoungDiagram((3,2,1))"
   ]
  },
  {
   "cell_type": "markdown",
   "id": "ba7d65fb",
   "metadata": {},
   "source": [
    "but not:"
   ]
  },
  {
   "cell_type": "code",
   "execution_count": 3,
   "id": "98f4a714",
   "metadata": {},
   "outputs": [
    {
     "ename": "ValueError",
     "evalue": "Not a young diagram.",
     "output_type": "error",
     "traceback": [
      "\u001b[0;31m---------------------------------------------------------------------------\u001b[0m",
      "\u001b[0;31mValueError\u001b[0m                                Traceback (most recent call last)",
      "Input \u001b[0;32mIn [3]\u001b[0m, in \u001b[0;36m<cell line: 1>\u001b[0;34m()\u001b[0m\n\u001b[0;32m----> 1\u001b[0m yd \u001b[38;5;241m=\u001b[39m \u001b[43mYoungDiagram\u001b[49m\u001b[43m(\u001b[49m\u001b[43m(\u001b[49m\u001b[38;5;241;43m1\u001b[39;49m\u001b[43m,\u001b[49m\u001b[38;5;241;43m2\u001b[39;49m\u001b[43m,\u001b[49m\u001b[38;5;241;43m3\u001b[39;49m\u001b[43m)\u001b[49m\u001b[43m)\u001b[49m\n",
      "File \u001b[0;32m~/Documents/birdtracks/pair_multiplication/pair_multiplication/classes.py:314\u001b[0m, in \u001b[0;36mYoungDiagram.__init__\u001b[0;34m(self, partition, Nc, barred, weight, inherited_N0)\u001b[0m\n\u001b[1;32m    312\u001b[0m     \u001b[38;5;28mself\u001b[39m\u001b[38;5;241m.\u001b[39mwidth \u001b[38;5;241m=\u001b[39m partition[\u001b[38;5;241m0\u001b[39m]\n\u001b[1;32m    313\u001b[0m     \u001b[38;5;28;01mif\u001b[39;00m \u001b[38;5;129;01mnot\u001b[39;00m \u001b[38;5;28mall\u001b[39m(i \u001b[38;5;241m>\u001b[39m\u001b[38;5;241m=\u001b[39m j \u001b[38;5;28;01mfor\u001b[39;00m i, j \u001b[38;5;129;01min\u001b[39;00m \u001b[38;5;28mzip\u001b[39m(partition, partition[\u001b[38;5;241m1\u001b[39m:])):\n\u001b[0;32m--> 314\u001b[0m         \u001b[38;5;28;01mraise\u001b[39;00m \u001b[38;5;167;01mValueError\u001b[39;00m(\u001b[38;5;124m'\u001b[39m\u001b[38;5;124mNot a young diagram.\u001b[39m\u001b[38;5;124m'\u001b[39m)\n\u001b[1;32m    315\u001b[0m \u001b[38;5;28;01melif\u001b[39;00m \u001b[38;5;28mlen\u001b[39m(partition) \u001b[38;5;241m>\u001b[39m \u001b[38;5;241m0\u001b[39m:\n\u001b[1;32m    316\u001b[0m     \u001b[38;5;28mself\u001b[39m\u001b[38;5;241m.\u001b[39mwidth \u001b[38;5;241m=\u001b[39m partition[\u001b[38;5;241m0\u001b[39m]\n",
      "\u001b[0;31mValueError\u001b[0m: Not a young diagram."
     ]
    }
   ],
   "source": [
    "yd = YoungDiagram((1,2,3)) # this is supposed to give an error, don't worry"
   ]
  },
  {
   "cell_type": "markdown",
   "id": "4b6a8ecd",
   "metadata": {},
   "source": [
    "### Young Diagrams\n",
    "\n",
    "We will use conventional Young diagrams to label representations of quarks:"
   ]
  },
  {
   "cell_type": "code",
   "execution_count": 4,
   "id": "ea5c400e",
   "metadata": {},
   "outputs": [],
   "source": [
    "yd1 = YoungDiagram((3,2,1))"
   ]
  },
  {
   "cell_type": "code",
   "execution_count": 5,
   "id": "e0336649",
   "metadata": {},
   "outputs": [
    {
     "data": {
      "text/latex": [
       "$$ (3, 2, 1) $$"
      ],
      "text/plain": [
       "(3, 2, 1)"
      ]
     },
     "execution_count": 5,
     "metadata": {},
     "output_type": "execute_result"
    }
   ],
   "source": [
    "yd1"
   ]
  },
  {
   "cell_type": "markdown",
   "id": "2c721bc2",
   "metadata": {},
   "source": [
    "We can access the tuple corresponding to the partition:"
   ]
  },
  {
   "cell_type": "code",
   "execution_count": 6,
   "id": "49006cb8",
   "metadata": {
    "scrolled": true
   },
   "outputs": [
    {
     "data": {
      "text/plain": [
       "(3, 2, 1)"
      ]
     },
     "execution_count": 6,
     "metadata": {},
     "output_type": "execute_result"
    }
   ],
   "source": [
    "yd1.partition"
   ]
  },
  {
   "cell_type": "markdown",
   "id": "778d9021",
   "metadata": {},
   "source": [
    "the lowest Nc for which this digram could exist:"
   ]
  },
  {
   "cell_type": "code",
   "execution_count": 7,
   "id": "b8b454b9",
   "metadata": {},
   "outputs": [
    {
     "data": {
      "text/plain": [
       "3"
      ]
     },
     "execution_count": 7,
     "metadata": {},
     "output_type": "execute_result"
    }
   ],
   "source": [
    "yd1.N0"
   ]
  },
  {
   "cell_type": "markdown",
   "id": "fe69ce15",
   "metadata": {},
   "source": [
    "its representation for a given Nc:"
   ]
  },
  {
   "cell_type": "code",
   "execution_count": 8,
   "id": "84fe2a50",
   "metadata": {},
   "outputs": [],
   "source": [
    "Nc = 3\n",
    "yd1_Nc3 = yd1.evaluate_for_Nc(Nc)"
   ]
  },
  {
   "cell_type": "code",
   "execution_count": 9,
   "id": "5e725cee",
   "metadata": {},
   "outputs": [
    {
     "data": {
      "text/latex": [
       "$$ (2, 1) $$"
      ],
      "text/plain": [
       "(2, 1)"
      ]
     },
     "execution_count": 9,
     "metadata": {},
     "output_type": "execute_result"
    }
   ],
   "source": [
    "yd1_Nc3"
   ]
  },
  {
   "cell_type": "markdown",
   "id": "d29346da",
   "metadata": {},
   "source": [
    "its dimension for a given Nc:"
   ]
  },
  {
   "cell_type": "code",
   "execution_count": 10,
   "id": "74afd0f7",
   "metadata": {},
   "outputs": [
    {
     "data": {
      "text/plain": [
       "8"
      ]
     },
     "execution_count": 10,
     "metadata": {},
     "output_type": "execute_result"
    }
   ],
   "source": [
    "yd1.dimension_Nc(Nc)"
   ]
  },
  {
   "cell_type": "markdown",
   "id": "05d28ab6",
   "metadata": {},
   "source": [
    "### Antiquark-like Young Diagrams\n",
    "\n",
    "We will use \"barred\" Young diagrams to label representations of antiquarks, arising from the complex-conjugate of the covarient representation:"
   ]
  },
  {
   "cell_type": "code",
   "execution_count": 11,
   "id": "25b7101f",
   "metadata": {},
   "outputs": [],
   "source": [
    "yd2 = YoungDiagram((3,2,1),barred = True)"
   ]
  },
  {
   "cell_type": "markdown",
   "id": "d6a02110",
   "metadata": {},
   "source": [
    "they are not the same objects!"
   ]
  },
  {
   "cell_type": "code",
   "execution_count": 12,
   "id": "be373ee2",
   "metadata": {},
   "outputs": [
    {
     "data": {
      "text/plain": [
       "False"
      ]
     },
     "execution_count": 12,
     "metadata": {},
     "output_type": "execute_result"
    }
   ],
   "source": [
    "yd1==yd2"
   ]
  },
  {
   "cell_type": "markdown",
   "id": "1bfa66fd",
   "metadata": {},
   "source": [
    "But when we evaluate a barred diagram for a given $N_c$, e.g., $N_c=3$, it becomes a conventional, unbarred Young diagram:"
   ]
  },
  {
   "cell_type": "code",
   "execution_count": 13,
   "id": "a2396462",
   "metadata": {},
   "outputs": [],
   "source": [
    "yd2_Nc3 = yd2.evaluate_for_Nc(3)"
   ]
  },
  {
   "cell_type": "code",
   "execution_count": 14,
   "id": "0fa9b04f",
   "metadata": {},
   "outputs": [
    {
     "data": {
      "text/latex": [
       "$$ (2, 1) $$"
      ],
      "text/plain": [
       "(2, 1)"
      ]
     },
     "execution_count": 14,
     "metadata": {},
     "output_type": "execute_result"
    }
   ],
   "source": [
    "yd2_Nc3"
   ]
  },
  {
   "cell_type": "markdown",
   "id": "09a4177b",
   "metadata": {},
   "source": [
    "in this case, its the same as the previous diagram when Nc=3:"
   ]
  },
  {
   "cell_type": "code",
   "execution_count": 15,
   "id": "c80a2f82",
   "metadata": {},
   "outputs": [
    {
     "data": {
      "text/plain": [
       "True"
      ]
     },
     "execution_count": 15,
     "metadata": {},
     "output_type": "execute_result"
    }
   ],
   "source": [
    "yd2_Nc3==yd1_Nc3"
   ]
  },
  {
   "cell_type": "markdown",
   "id": "23dd7c4d",
   "metadata": {},
   "source": [
    "but for a different $N_c$, it produces a different diagram"
   ]
  },
  {
   "cell_type": "code",
   "execution_count": 16,
   "id": "b9473381",
   "metadata": {},
   "outputs": [
    {
     "data": {
      "text/latex": [
       "$$ (3, 2, 1) $$"
      ],
      "text/plain": [
       "(3, 2, 1)"
      ]
     },
     "execution_count": 16,
     "metadata": {},
     "output_type": "execute_result"
    }
   ],
   "source": [
    "yd2.evaluate_for_Nc(4)"
   ]
  },
  {
   "cell_type": "markdown",
   "id": "a7ba0bdd",
   "metadata": {},
   "source": [
    "## Composite Diagram Pairs\n",
    "\n",
    "To create an arbitrary tensor representation of $SU(N)$, with any number of covarient or contravarient indices, we create a composite representation of an antiquark-like diagram and a quark-like diagram, composing them in a diagram pair. \n",
    "\n",
    "They're constructed from two tuples, the first one defining the barred diagram, and the second the unbarred diagram."
   ]
  },
  {
   "cell_type": "code",
   "execution_count": 17,
   "id": "85e273e5",
   "metadata": {},
   "outputs": [
    {
     "data": {
      "text/latex": [
       "$$ 1_{2} \\left(\\overline{(1)},(1)\\right) $$"
      ],
      "text/plain": [
       "[2]((1),(1))"
      ]
     },
     "execution_count": 17,
     "metadata": {},
     "output_type": "execute_result"
    }
   ],
   "source": [
    "pair1 = Pair(((1),(1)))\n",
    "pair1"
   ]
  },
  {
   "cell_type": "markdown",
   "id": "ba68a035",
   "metadata": {},
   "source": [
    "In the notation, the subscript denotes the lowest $N_c$ where this representation can exist. Like a barred diagram, we can evaluate it for a certain $N_c$:"
   ]
  },
  {
   "cell_type": "code",
   "execution_count": 18,
   "id": "25556ec9",
   "metadata": {},
   "outputs": [
    {
     "data": {
      "text/latex": [
       "$$ (2) $$"
      ],
      "text/plain": [
       "(2)"
      ]
     },
     "execution_count": 18,
     "metadata": {},
     "output_type": "execute_result"
    }
   ],
   "source": [
    "pair1_nc3 = pair1.evaluate_for_Nc(Nc=2)\n",
    "pair1_nc3"
   ]
  },
  {
   "cell_type": "code",
   "execution_count": 19,
   "id": "ae51e393",
   "metadata": {},
   "outputs": [
    {
     "data": {
      "text/latex": [
       "$$ (2, 1) $$"
      ],
      "text/plain": [
       "(2, 1)"
      ]
     },
     "execution_count": 19,
     "metadata": {},
     "output_type": "execute_result"
    }
   ],
   "source": [
    "pair1_nc3 = pair1.evaluate_for_Nc(Nc=3)\n",
    "pair1_nc3"
   ]
  },
  {
   "cell_type": "markdown",
   "id": "4e7f2387",
   "metadata": {},
   "source": [
    "A pair can also be made by pairing a YoungDiagram with a barred Young diagram, or the other way around:"
   ]
  },
  {
   "cell_type": "code",
   "execution_count": 20,
   "id": "a1efec12",
   "metadata": {},
   "outputs": [
    {
     "data": {
      "text/plain": [
       "True"
      ]
     },
     "execution_count": 20,
     "metadata": {},
     "output_type": "execute_result"
    }
   ],
   "source": [
    "yd.pair_with(yd2) == yd2.pair_with(yd)"
   ]
  },
  {
   "cell_type": "markdown",
   "id": "30a7be58",
   "metadata": {},
   "source": [
    "but not if they're both barred/unbarred:"
   ]
  },
  {
   "cell_type": "code",
   "execution_count": 21,
   "id": "5371e1d1",
   "metadata": {},
   "outputs": [
    {
     "ename": "AttributeError",
     "evalue": "One of the diagrams must be barred to form a pair",
     "output_type": "error",
     "traceback": [
      "\u001b[0;31m---------------------------------------------------------------------------\u001b[0m",
      "\u001b[0;31mAttributeError\u001b[0m                            Traceback (most recent call last)",
      "Input \u001b[0;32mIn [21]\u001b[0m, in \u001b[0;36m<cell line: 1>\u001b[0;34m()\u001b[0m\n\u001b[0;32m----> 1\u001b[0m \u001b[43myd\u001b[49m\u001b[38;5;241;43m.\u001b[39;49m\u001b[43mpair_with\u001b[49m\u001b[43m(\u001b[49m\u001b[43myd\u001b[49m\u001b[43m)\u001b[49m\n",
      "File \u001b[0;32m~/Documents/birdtracks/pair_multiplication/pair_multiplication/classes.py:661\u001b[0m, in \u001b[0;36mYoungDiagram.pair_with\u001b[0;34m(self, other, inherited_N0, Nc)\u001b[0m\n\u001b[1;32m    658\u001b[0m         \u001b[38;5;28;01mreturn\u001b[39;00m Pair((other,\u001b[38;5;28mself\u001b[39m),Nc\u001b[38;5;241m=\u001b[39m\u001b[38;5;28;01mNone\u001b[39;00m, \n\u001b[1;32m    659\u001b[0m                     inherited_N0\u001b[38;5;241m=\u001b[39m\u001b[38;5;28mmax\u001b[39m(\u001b[38;5;28mself\u001b[39m\u001b[38;5;241m.\u001b[39mN0,other\u001b[38;5;241m.\u001b[39mN0, inherited_N0))\n\u001b[1;32m    660\u001b[0m     \u001b[38;5;28;01melse\u001b[39;00m:\n\u001b[0;32m--> 661\u001b[0m         \u001b[38;5;28;01mraise\u001b[39;00m \u001b[38;5;167;01mAttributeError\u001b[39;00m(\u001b[38;5;124m\"\u001b[39m\u001b[38;5;124mOne of the diagrams must be barred to form a pair\u001b[39m\u001b[38;5;124m\"\u001b[39m)\n\u001b[1;32m    662\u001b[0m \u001b[38;5;28;01melse\u001b[39;00m:\n\u001b[1;32m    663\u001b[0m     \u001b[38;5;28;01mtry\u001b[39;00m:\n",
      "\u001b[0;31mAttributeError\u001b[0m: One of the diagrams must be barred to form a pair"
     ]
    }
   ],
   "source": [
    "yd.pair_with(yd)"
   ]
  },
  {
   "cell_type": "markdown",
   "id": "c8611bba",
   "metadata": {},
   "source": [
    "They can also be constructed by pairing a diagram with a partition, and the partition will be treated as the barred diagram if the first object is unbarred, or vice-versa:"
   ]
  },
  {
   "cell_type": "code",
   "execution_count": 22,
   "id": "f92eba8f",
   "metadata": {},
   "outputs": [
    {
     "data": {
      "text/latex": [
       "$$ 1_{3} \\left(\\overline{(1)},(2, 1)\\right) $$"
      ],
      "text/plain": [
       "[3]((1),(2, 1))"
      ]
     },
     "execution_count": 22,
     "metadata": {},
     "output_type": "execute_result"
    }
   ],
   "source": [
    "YoungDiagram((2,1)).pair_with((1))"
   ]
  },
  {
   "cell_type": "code",
   "execution_count": 23,
   "id": "ba38c555",
   "metadata": {},
   "outputs": [
    {
     "data": {
      "text/latex": [
       "$$ 1_{3} \\left(\\overline{(1)},(2, 1)\\right) $$"
      ],
      "text/plain": [
       "[3]((1),(2, 1))"
      ]
     },
     "execution_count": 23,
     "metadata": {},
     "output_type": "execute_result"
    }
   ],
   "source": [
    "YoungDiagram((1),barred=True).pair_with((2,1))"
   ]
  },
  {
   "cell_type": "markdown",
   "id": "d6e3223c",
   "metadata": {},
   "source": [
    "When a pair is constructed with a given $N_c$, it immediately evalues the corresponding YoungDiagram (unbarred) instead:"
   ]
  },
  {
   "cell_type": "code",
   "execution_count": 24,
   "id": "188142fc",
   "metadata": {},
   "outputs": [
    {
     "data": {
      "text/latex": [
       "$$ (2, 1) $$"
      ],
      "text/plain": [
       "(2, 1)"
      ]
     },
     "execution_count": 24,
     "metadata": {},
     "output_type": "execute_result"
    }
   ],
   "source": [
    "Pair(((1),(1)),Nc=3)"
   ]
  },
  {
   "cell_type": "markdown",
   "id": "af8a7354",
   "metadata": {},
   "source": [
    "## Common properties of all objects"
   ]
  },
  {
   "cell_type": "markdown",
   "id": "20d58e0f",
   "metadata": {},
   "source": [
    "Diagrams and pairs all have the following attributes, accessed the same way:\n",
    "\n",
    "    1) .Nc: the carried value of $N_c$ (int or None)\n",
    "    2) .N0: the lowest $N_c$ for which the representation occurs\n",
    "    3) .partition: the partition representation of the diagram/ pair of partitions for a pair object\n",
    "    4) .barred: True only for barred Young diagrams, otherwise False\n",
    "    5) .n: the number of boxes in the partition"
   ]
  },
  {
   "cell_type": "markdown",
   "id": "1439bb44",
   "metadata": {},
   "source": [
    "# Multiplying diagrams and pairs - the DirectSum class"
   ]
  },
  {
   "cell_type": "markdown",
   "id": "7dab89fd",
   "metadata": {},
   "source": [
    "Any two of these objects can be multiplied together, if they share the same value of $N_c$, i.e., for both objects it has an equal value or is None. \n",
    "\n",
    "The resulting decomposition is stored in a DirectSum object, which has attriutes elements and multiplicities:"
   ]
  },
  {
   "cell_type": "code",
   "execution_count": 25,
   "id": "0c2b7fcd",
   "metadata": {},
   "outputs": [
    {
     "data": {
      "text/latex": [
       "\\[\\begin{array}{c}1_{2} (3, 3)\\oplus1_{2} (4, 2)\\oplus\n",
       "\n",
       "1_{3} (2, 2, 2)\\oplus2_{3} (3, 2, 1)\\oplus1_{3} (4, 1, 1)\\oplus\n",
       "\n",
       "1_{4} (2, 2, 1, 1)\\oplus1_{4} (3, 1, 1, 1)\\end{array}\\]"
      ],
      "text/plain": [
       "<pair_multiplication.classes.DirectSum at 0x7fe92b562680>"
      ]
     },
     "execution_count": 25,
     "metadata": {},
     "output_type": "execute_result"
    }
   ],
   "source": [
    "yd = YoungDiagram((2,1))\n",
    "\n",
    "ds = yd * yd\n",
    "ds"
   ]
  },
  {
   "cell_type": "markdown",
   "id": "3a429b14",
   "metadata": {},
   "source": [
    "the list containing all elements is acessed via:"
   ]
  },
  {
   "cell_type": "code",
   "execution_count": 26,
   "id": "79602094",
   "metadata": {},
   "outputs": [
    {
     "data": {
      "text/plain": [
       "array([[2](3, 3), [2](4, 2), [3](2, 2, 2), [3](3, 2, 1), [3](4, 1, 1),\n",
       "       [4](2, 2, 1, 1), [4](3, 1, 1, 1)], dtype=object)"
      ]
     },
     "execution_count": 26,
     "metadata": {},
     "output_type": "execute_result"
    }
   ],
   "source": [
    "ds.elements"
   ]
  },
  {
   "cell_type": "markdown",
   "id": "1e0040b9",
   "metadata": {},
   "source": [
    "and their index-corresponding multiplicities as:"
   ]
  },
  {
   "cell_type": "code",
   "execution_count": 27,
   "id": "88e0c900",
   "metadata": {},
   "outputs": [
    {
     "data": {
      "text/plain": [
       "array([1, 1, 1, 2, 1, 1, 1])"
      ]
     },
     "execution_count": 27,
     "metadata": {},
     "output_type": "execute_result"
    }
   ],
   "source": [
    "ds.multiplicities"
   ]
  },
  {
   "cell_type": "markdown",
   "id": "f92eb546",
   "metadata": {},
   "source": [
    "DirectSums can collectivley be evaluated for a given $N_c$, if it was previously None"
   ]
  },
  {
   "cell_type": "code",
   "execution_count": 28,
   "id": "da3e896c",
   "metadata": {},
   "outputs": [
    {
     "data": {
      "text/latex": [
       "\\[\\begin{array}{c}1_{0}\\,()\\oplus\n",
       "\n",
       "1_{1}\\,(3)\\oplus\n",
       "\n",
       "2_{2}\\,(2, 1)\\oplus1_{2}\\,(4, 2)\\oplus1_{2}\\,(3, 3)\\end{array}\\]"
      ],
      "text/plain": [
       "<pair_multiplication.classes.DirectSum at 0x7fe92b593970>"
      ]
     },
     "execution_count": 28,
     "metadata": {},
     "output_type": "execute_result"
    }
   ],
   "source": [
    "ds_nc3 = ds.evaluate_for_Nc(3)\n",
    "ds_nc3"
   ]
  },
  {
   "cell_type": "markdown",
   "id": "c45a5cba",
   "metadata": {},
   "source": [
    "they can be filtered in a numpy-friendly way. The following gives all the irreps of dimension 10 in SU(3):"
   ]
  },
  {
   "cell_type": "code",
   "execution_count": 29,
   "id": "fd6e7634",
   "metadata": {},
   "outputs": [
    {
     "data": {
      "text/latex": [
       "\\[\\begin{array}{c}1_{1}\\,(3)\\oplus\n",
       "\n",
       "1_{2}\\,(3, 3)\\end{array}\\]"
      ],
      "text/plain": [
       "<pair_multiplication.classes.DirectSum at 0x7fe92b559060>"
      ]
     },
     "execution_count": 29,
     "metadata": {},
     "output_type": "execute_result"
    }
   ],
   "source": [
    "ds_nc3[ds_nc3.dimension_Nc()==10]"
   ]
  },
  {
   "cell_type": "markdown",
   "id": "adeb6fdd",
   "metadata": {},
   "source": [
    "You can use the same setup to investigate the multiplicities, elements, or dimensions:"
   ]
  },
  {
   "cell_type": "code",
   "execution_count": 30,
   "id": "51c03d78",
   "metadata": {},
   "outputs": [
    {
     "data": {
      "text/plain": [
       "array([2])"
      ]
     },
     "execution_count": 30,
     "metadata": {},
     "output_type": "execute_result"
    }
   ],
   "source": [
    "ds_nc3.multiplicities[ds_nc3.elements==YoungDiagram((2,1),Nc=3)]"
   ]
  },
  {
   "cell_type": "markdown",
   "id": "af785977",
   "metadata": {},
   "source": [
    "### Standard Littlewood-Richardson Multiplication of Young diagrams only\n",
    "\n",
    "Pair multiplication implements the column-wise multiplication method soon to be outlined in Ref.[work in progress].\n",
    "An alternative way to multiply Young diagrams *only* is to use the built-in function .LR_multiply():"
   ]
  },
  {
   "cell_type": "code",
   "execution_count": 31,
   "id": "4ff57d1b",
   "metadata": {},
   "outputs": [
    {
     "data": {
      "text/latex": [
       "\\[\\begin{array}{c}1_{2}\\,(3, 3)\\oplus1_{2}\\,(4, 2)\\oplus\n",
       "\n",
       "1_{3}\\,(2, 2, 2)\\oplus2_{3}\\,(3, 2, 1)\\oplus1_{3}\\,(4, 1, 1)\\oplus\n",
       "\n",
       "1_{4}\\,(2, 2, 1, 1)\\oplus1_{4}\\,(3, 1, 1, 1)\\end{array}\\]"
      ],
      "text/plain": [
       "<pair_multiplication.classes.DirectSum at 0x7fe92b593df0>"
      ]
     },
     "execution_count": 31,
     "metadata": {},
     "output_type": "execute_result"
    }
   ],
   "source": [
    "yd.LR_multiply(yd)"
   ]
  },
  {
   "cell_type": "markdown",
   "id": "672a5693",
   "metadata": {},
   "source": [
    "It produces the same result as the multiplication we previously constructed, but uses a different implementation - a good cross check:"
   ]
  },
  {
   "cell_type": "code",
   "execution_count": 32,
   "id": "90a6e0c7",
   "metadata": {},
   "outputs": [
    {
     "data": {
      "text/plain": [
       "True"
      ]
     },
     "execution_count": 32,
     "metadata": {},
     "output_type": "execute_result"
    }
   ],
   "source": [
    "yd.LR_multiply(yd) == yd * yd"
   ]
  },
  {
   "cell_type": "markdown",
   "id": "436be789",
   "metadata": {},
   "source": [
    "## Myltiplying Composite Pairs\n",
    "\n",
    "The general multiplication method in this package extends to multiplying all combinations of YoungDiagram, Pair and DirectSum objects. \n",
    "\n",
    "We'll show an example of multiplying Pairs, and dow the general $N_c$ dependence is preserved:"
   ]
  },
  {
   "cell_type": "code",
   "execution_count": 33,
   "id": "1c69aa5b",
   "metadata": {},
   "outputs": [],
   "source": [
    "pair1 = Pair(((1,1),(2)))\n",
    "pair2 = Pair(((1),(1)))"
   ]
  },
  {
   "cell_type": "markdown",
   "id": "908056bc",
   "metadata": {},
   "source": [
    "then multiply them $P_1\\otimes P_2$:"
   ]
  },
  {
   "cell_type": "code",
   "execution_count": 34,
   "id": "8373802f",
   "metadata": {},
   "outputs": [
    {
     "data": {
      "text/latex": [
       "\\[\\begin{array}{c}1_{3} \\left(\\overline{(1)},(1)\\right)\\oplus1_{3} \\left(\\overline{(1, 1)},(2)\\right)\\oplus1_{3} \\left(\\overline{(2)},(2)\\right)\\oplus1_{3} \\left(\\overline{(2, 1)},(3)\\right)\\oplus\n",
       "\n",
       "1_{4} \\left(\\overline{(1, 1)},(1, 1)\\right)\\oplus1_{4} \\left(\\overline{(1, 1)},(2)\\right)\\oplus1_{4} \\left(\\overline{(2, 1)},(2, 1)\\right)\\oplus1_{4} \\left(\\overline{(1, 1, 1)},(3)\\right)\\oplus\n",
       "\n",
       "1_{5} \\left(\\overline{(1, 1, 1)},(2, 1)\\right)\\end{array}\\]"
      ],
      "text/plain": [
       "<pair_multiplication.classes.DirectSum at 0x7fe92b593460>"
      ]
     },
     "execution_count": 34,
     "metadata": {},
     "output_type": "execute_result"
    }
   ],
   "source": [
    "p1_times_p2 = pair1*pair2\n",
    "p1_times_p2"
   ]
  },
  {
   "cell_type": "markdown",
   "id": "beb1d434",
   "metadata": {},
   "source": [
    "multiplying $P_2\\otimes P_1$ should give the same answer:"
   ]
  },
  {
   "cell_type": "code",
   "execution_count": 35,
   "id": "36ef7231",
   "metadata": {},
   "outputs": [
    {
     "data": {
      "text/plain": [
       "True"
      ]
     },
     "execution_count": 35,
     "metadata": {},
     "output_type": "execute_result"
    }
   ],
   "source": [
    "p2_times_p1 = pair1*pair2\n",
    "\n",
    "p1_times_p2 == p2_times_p1"
   ]
  },
  {
   "cell_type": "markdown",
   "id": "db99a498",
   "metadata": {},
   "source": [
    "We can find the lowest $N_c$ for which each representation is admissible:"
   ]
  },
  {
   "cell_type": "code",
   "execution_count": 36,
   "id": "9171c67d",
   "metadata": {},
   "outputs": [
    {
     "data": {
      "text/plain": [
       "array([3, 3, 3, 3, 4, 4, 4, 4, 5])"
      ]
     },
     "execution_count": 36,
     "metadata": {},
     "output_type": "execute_result"
    }
   ],
   "source": [
    "lowest_nc = p1_times_p2.lowest_Nc()\n",
    "lowest_nc"
   ]
  },
  {
   "cell_type": "markdown",
   "id": "14479d39",
   "metadata": {},
   "source": [
    "Let's pick an $N_c$ and test the tensor multiplication:"
   ]
  },
  {
   "cell_type": "code",
   "execution_count": 37,
   "id": "35b0c5f2",
   "metadata": {},
   "outputs": [],
   "source": [
    "Nc = min(lowest_nc)"
   ]
  },
  {
   "cell_type": "markdown",
   "id": "1021267e",
   "metadata": {},
   "source": [
    "Then we can check if the tensor multiple is the same when we multiply pairs and then evaluate the $N_c$, vs. first evaluating each pair for the given $N_c$ and then multiplying their results. \n",
    "\n",
    "In this case, we use the same multiplication algorithm (column LR):"
   ]
  },
  {
   "cell_type": "code",
   "execution_count": 38,
   "id": "fbaad185",
   "metadata": {
    "scrolled": true
   },
   "outputs": [
    {
     "data": {
      "text/plain": [
       "3"
      ]
     },
     "execution_count": 38,
     "metadata": {},
     "output_type": "execute_result"
    }
   ],
   "source": [
    "Nc"
   ]
  },
  {
   "cell_type": "code",
   "execution_count": 39,
   "id": "50c3b34f",
   "metadata": {},
   "outputs": [
    {
     "data": {
      "text/latex": [
       "\\[\\begin{array}{c}1_{1}\\,(3)\\oplus\n",
       "\n",
       "1_{2}\\,(2, 1)\\oplus1_{2}\\,(4, 2)\\oplus1_{2}\\,(5, 1)\\end{array}\\]"
      ],
      "text/plain": [
       "<pair_multiplication.classes.DirectSum at 0x7fe92b558be0>"
      ]
     },
     "execution_count": 39,
     "metadata": {},
     "output_type": "execute_result"
    }
   ],
   "source": [
    "p1_times_p2.evaluate_for_Nc(Nc)"
   ]
  },
  {
   "cell_type": "markdown",
   "id": "62ae00b1",
   "metadata": {},
   "source": [
    "Now we check if the tensor multiple is the same when comparing it with the implemented LR algorithm:"
   ]
  },
  {
   "cell_type": "code",
   "execution_count": 40,
   "id": "369a4ea2",
   "metadata": {},
   "outputs": [
    {
     "data": {
      "text/latex": [
       "\\[\\begin{array}{c}1_{1}\\,(3)\\oplus\n",
       "\n",
       "1_{2}\\,(2, 1)\\oplus1_{2}\\,(4, 2)\\oplus1_{2}\\,(5, 1)\\end{array}\\]"
      ],
      "text/plain": [
       "<pair_multiplication.classes.DirectSum at 0x7fe92b5a9660>"
      ]
     },
     "execution_count": 40,
     "metadata": {},
     "output_type": "execute_result"
    }
   ],
   "source": [
    "pair1.evaluate_for_Nc(Nc).LR_multiply(pair2.evaluate_for_Nc(Nc))"
   ]
  },
  {
   "cell_type": "code",
   "execution_count": 41,
   "id": "c7b6d7f3",
   "metadata": {},
   "outputs": [
    {
     "data": {
      "text/plain": [
       "True"
      ]
     },
     "execution_count": 41,
     "metadata": {},
     "output_type": "execute_result"
    }
   ],
   "source": [
    "p1_times_p2.evaluate_for_Nc(Nc) ==\\\n",
    "pair1.evaluate_for_Nc(Nc).LR_multiply(pair2.evaluate_for_Nc(Nc)).evaluate_for_Nc(Nc)"
   ]
  },
  {
   "cell_type": "markdown",
   "id": "060c9083",
   "metadata": {},
   "source": [
    "# Printing Outputs"
   ]
  },
  {
   "cell_type": "markdown",
   "id": "76b885c6",
   "metadata": {},
   "source": [
    "The package has several ways to output the results of calculations. Objects themselves can be printed on the command line and in IPython.\n",
    "\n",
    "A pythonic print() statement gives the command-line friendly output:"
   ]
  },
  {
   "cell_type": "code",
   "execution_count": 42,
   "id": "bf9496d6",
   "metadata": {},
   "outputs": [
    {
     "name": "stdout",
     "output_type": "stream",
     "text": [
      "1[3]((1),(1))+1[3]((1, 1),(2))+1[3]((2),(2))+1[3]((2, 1),(3))+1[4]((1, 1),(1, 1))+1[4]((1, 1),(2))+1[4]((2, 1),(2, 1))+1[4]((1, 1, 1),(3))+1[5]((1, 1, 1),(2, 1))\n"
     ]
    }
   ],
   "source": [
    "print(p1_times_p2)"
   ]
  },
  {
   "cell_type": "markdown",
   "id": "d1d5ae10",
   "metadata": {},
   "source": [
    "Here, the multiplicities are shown as indices at the front of each pair of partitions, and the square brackets [] contain the lowest $N_c$ of the representation.\n",
    "\n",
    "Simply outputting the object itself produces the IPython formatting:"
   ]
  },
  {
   "cell_type": "code",
   "execution_count": 43,
   "id": "ead58e8f",
   "metadata": {},
   "outputs": [
    {
     "data": {
      "text/latex": [
       "\\[\\begin{array}{c}1_{3} \\left(\\overline{(1)},(1)\\right)\\oplus1_{3} \\left(\\overline{(1, 1)},(2)\\right)\\oplus1_{3} \\left(\\overline{(2)},(2)\\right)\\oplus1_{3} \\left(\\overline{(2, 1)},(3)\\right)\\oplus\n",
       "\n",
       "1_{4} \\left(\\overline{(1, 1)},(1, 1)\\right)\\oplus1_{4} \\left(\\overline{(1, 1)},(2)\\right)\\oplus1_{4} \\left(\\overline{(2, 1)},(2, 1)\\right)\\oplus1_{4} \\left(\\overline{(1, 1, 1)},(3)\\right)\\oplus\n",
       "\n",
       "1_{5} \\left(\\overline{(1, 1, 1)},(2, 1)\\right)\\end{array}\\]"
      ],
      "text/plain": [
       "<pair_multiplication.classes.DirectSum at 0x7fe92b593460>"
      ]
     },
     "execution_count": 43,
     "metadata": {},
     "output_type": "execute_result"
    }
   ],
   "source": [
    "p1_times_p2"
   ]
  },
  {
   "cell_type": "markdown",
   "id": "ac2d7596",
   "metadata": {},
   "source": [
    "Toggling the \\LaTeX strings on and off can be done in two ways. To simply print the result, use .print(tex=True/False):"
   ]
  },
  {
   "cell_type": "code",
   "execution_count": 44,
   "id": "86b54ed3",
   "metadata": {},
   "outputs": [
    {
     "name": "stdout",
     "output_type": "stream",
     "text": [
      "1[3]((1),(1))+1[3]((1, 1),(2))+1[3]((2),(2))+1[3]((2, 1),(3))+1[4]((1, 1),(1, 1))+1[4]((1, 1),(2))+1[4]((2, 1),(2, 1))+1[4]((1, 1, 1),(3))+1[5]((1, 1, 1),(2, 1))\n"
     ]
    }
   ],
   "source": [
    "p1_times_p2.print() #default is tex=False"
   ]
  },
  {
   "cell_type": "code",
   "execution_count": 45,
   "id": "f613fb67",
   "metadata": {},
   "outputs": [
    {
     "name": "stdout",
     "output_type": "stream",
     "text": [
      "$$\\[\\begin{array}{c}1_{3} \\left(\\overline{(1)},(1)\\right)\\oplus1_{3} \\left(\\overline{(1, 1)},(2)\\right)\\oplus1_{3} \\left(\\overline{(2)},(2)\\right)\\oplus1_{3} \\left(\\overline{(2, 1)},(3)\\right)\\oplus\n",
      "\n",
      "1_{4} \\left(\\overline{(1, 1)},(1, 1)\\right)\\oplus1_{4} \\left(\\overline{(1, 1)},(2)\\right)\\oplus1_{4} \\left(\\overline{(2, 1)},(2, 1)\\right)\\oplus1_{4} \\left(\\overline{(1, 1, 1)},(3)\\right)\\oplus\n",
      "\n",
      "1_{5} \\left(\\overline{(1, 1, 1)},(2, 1)\\right)\\end{array}\\]$$\n"
     ]
    }
   ],
   "source": [
    "p1_times_p2.print(tex=True) "
   ]
  },
  {
   "cell_type": "markdown",
   "id": "e1fdd6f8",
   "metadata": {},
   "source": [
    "Or, to get the string objects producing the outputs, you can call .to_str(tex=True/False):"
   ]
  },
  {
   "cell_type": "code",
   "execution_count": 46,
   "id": "49bf3d1c",
   "metadata": {},
   "outputs": [
    {
     "data": {
      "text/plain": [
       "'1[3]((1),(1))+1[3]((1, 1),(2))+1[3]((2),(2))+1[3]((2, 1),(3))+1[4]((1, 1),(1, 1))+1[4]((1, 1),(2))+1[4]((2, 1),(2, 1))+1[4]((1, 1, 1),(3))+1[5]((1, 1, 1),(2, 1))'"
      ]
     },
     "execution_count": 46,
     "metadata": {},
     "output_type": "execute_result"
    }
   ],
   "source": [
    "string = p1_times_p2.to_str() #default is tex=False\n",
    "string"
   ]
  },
  {
   "cell_type": "code",
   "execution_count": 47,
   "id": "8bcaccb5",
   "metadata": {},
   "outputs": [
    {
     "data": {
      "text/plain": [
       "'\\\\[\\\\begin{array}{c}1_{3} \\\\left(\\\\overline{(1)},(1)\\\\right)\\\\oplus1_{3} \\\\left(\\\\overline{(1, 1)},(2)\\\\right)\\\\oplus1_{3} \\\\left(\\\\overline{(2)},(2)\\\\right)\\\\oplus1_{3} \\\\left(\\\\overline{(2, 1)},(3)\\\\right)\\\\oplus\\n\\n1_{4} \\\\left(\\\\overline{(1, 1)},(1, 1)\\\\right)\\\\oplus1_{4} \\\\left(\\\\overline{(1, 1)},(2)\\\\right)\\\\oplus1_{4} \\\\left(\\\\overline{(2, 1)},(2, 1)\\\\right)\\\\oplus1_{4} \\\\left(\\\\overline{(1, 1, 1)},(3)\\\\right)\\\\oplus\\n\\n1_{5} \\\\left(\\\\overline{(1, 1, 1)},(2, 1)\\\\right)\\\\end{array}\\\\]'"
      ]
     },
     "execution_count": 47,
     "metadata": {},
     "output_type": "execute_result"
    }
   ],
   "source": [
    "tex_string = p1_times_p2.to_str(tex = True) \n",
    "tex_string"
   ]
  },
  {
   "cell_type": "markdown",
   "id": "142d883c",
   "metadata": {},
   "source": [
    "## Coming soon:\n",
    "\n",
    " - ~ordering elements in the direct sum in a readable way~\n",
    " - ~algorithm speed-up for higher numbers of boxes~\n",
    " - ~better handling of diagram multiplicities~\n",
    " - better documentation and testing\n",
    " - ~more Latexing functions!~"
   ]
  }
 ],
 "metadata": {
  "kernelspec": {
   "display_name": "Python 3 (ipykernel)",
   "language": "python",
   "name": "python3"
  },
  "language_info": {
   "codemirror_mode": {
    "name": "ipython",
    "version": 3
   },
   "file_extension": ".py",
   "mimetype": "text/x-python",
   "name": "python",
   "nbconvert_exporter": "python",
   "pygments_lexer": "ipython3",
   "version": "3.10.11"
  }
 },
 "nbformat": 4,
 "nbformat_minor": 5
}
