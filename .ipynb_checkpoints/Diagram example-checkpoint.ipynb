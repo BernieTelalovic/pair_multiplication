{
 "cells": [
  {
   "cell_type": "code",
   "execution_count": 1,
   "id": "2ab209d6",
   "metadata": {},
   "outputs": [],
   "source": [
    "from pair_multiplication import *"
   ]
  },
  {
   "cell_type": "markdown",
   "id": "1601542f",
   "metadata": {},
   "source": [
    "We can construct young diagrams:"
   ]
  },
  {
   "cell_type": "code",
   "execution_count": 2,
   "id": "3bdecc72",
   "metadata": {},
   "outputs": [],
   "source": [
    "d1 = YoungDiagram((1,1))\n",
    "d2 = YoungDiagram((2),barred = True)"
   ]
  },
  {
   "cell_type": "markdown",
   "id": "6f24d702",
   "metadata": {},
   "source": [
    "we can directly print them:"
   ]
  },
  {
   "cell_type": "code",
   "execution_count": 3,
   "id": "37577552",
   "metadata": {},
   "outputs": [
    {
     "data": {
      "text/latex": [
       "$$ (1, 1) $$"
      ],
      "text/plain": [
       "(1, 1)"
      ]
     },
     "execution_count": 3,
     "metadata": {},
     "output_type": "execute_result"
    }
   ],
   "source": [
    "d1"
   ]
  },
  {
   "cell_type": "code",
   "execution_count": 4,
   "id": "7e526708",
   "metadata": {},
   "outputs": [
    {
     "data": {
      "text/latex": [
       "$$ \\overline{(2)} $$"
      ],
      "text/plain": [
       "(2)_"
      ]
     },
     "execution_count": 4,
     "metadata": {},
     "output_type": "execute_result"
    }
   ],
   "source": [
    "d2"
   ]
  },
  {
   "cell_type": "markdown",
   "id": "a933758c",
   "metadata": {},
   "source": [
    "or get the Latex script that gives the same output:"
   ]
  },
  {
   "cell_type": "code",
   "execution_count": 5,
   "id": "168aca6e",
   "metadata": {},
   "outputs": [
    {
     "name": "stdout",
     "output_type": "stream",
     "text": [
      "(1, 1)\n"
     ]
    }
   ],
   "source": [
    "print(d1)"
   ]
  },
  {
   "cell_type": "code",
   "execution_count": 6,
   "id": "863f40bc",
   "metadata": {},
   "outputs": [
    {
     "name": "stdout",
     "output_type": "stream",
     "text": [
      "\\overline{(2)}\n"
     ]
    }
   ],
   "source": [
    "print(d2)"
   ]
  },
  {
   "cell_type": "markdown",
   "id": "7c688996",
   "metadata": {},
   "source": [
    "We can multiply them, to get a DirectSum object. It functions like a dictionary, with keys being YoungDiagram, or pairs of young diagrams, and the values being their multiplicities in the direct sum."
   ]
  },
  {
   "cell_type": "code",
   "execution_count": 7,
   "id": "1bb9f44c",
   "metadata": {},
   "outputs": [
    {
     "data": {
      "text/plain": [
       "(2,)"
      ]
     },
     "execution_count": 7,
     "metadata": {},
     "output_type": "execute_result"
    }
   ],
   "source": [
    "tuple([2])"
   ]
  },
  {
   "cell_type": "code",
   "execution_count": 8,
   "id": "d67433d1",
   "metadata": {
    "scrolled": false
   },
   "outputs": [
    {
     "data": {
      "text/plain": [
       "{(1, 1, 1, 1): 1, (2, 1, 1): 1, (2, 2): 1}"
      ]
     },
     "execution_count": 8,
     "metadata": {},
     "output_type": "execute_result"
    }
   ],
   "source": [
    "d1_tensor_d1 = d1*d1\n",
    "d1_tensor_d1"
   ]
  },
  {
   "cell_type": "markdown",
   "id": "e0e817fd",
   "metadata": {},
   "source": [
    "we can also add direct sums (equal terms are immediately simplidied, i.e., their multiplicities are summed)"
   ]
  },
  {
   "cell_type": "code",
   "execution_count": 9,
   "id": "31a36abe",
   "metadata": {},
   "outputs": [
    {
     "data": {
      "text/plain": [
       "{(1, 1, 1, 1): 1, (2, 1, 1): 1, (1, 1): 1, (2, 2): 1}"
      ]
     },
     "execution_count": 9,
     "metadata": {},
     "output_type": "execute_result"
    }
   ],
   "source": [
    "d1_tensor_d1+d1"
   ]
  },
  {
   "cell_type": "code",
   "execution_count": 10,
   "id": "8e331e54",
   "metadata": {},
   "outputs": [
    {
     "data": {
      "text/plain": [
       "{(1, 1, 1, 1): 1, (2, 1, 1): 1, (1, 1): 2, (2, 2): 1}"
      ]
     },
     "execution_count": 10,
     "metadata": {},
     "output_type": "execute_result"
    }
   ],
   "source": [
    "d1_tensor_d1+d1+d1"
   ]
  },
  {
   "cell_type": "markdown",
   "id": "3c30fdaf",
   "metadata": {},
   "source": [
    "When multiplying, $A\\otimes B$ or $\\overline{A}\\otimes\\overline{B}$ uses the LR rule."
   ]
  },
  {
   "cell_type": "code",
   "execution_count": 11,
   "id": "5d6f83a6",
   "metadata": {
    "scrolled": true
   },
   "outputs": [
    {
     "data": {
      "text/plain": [
       "{(2, 2)_: 1, (4)_: 1, (3, 1)_: 1}"
      ]
     },
     "execution_count": 11,
     "metadata": {},
     "output_type": "execute_result"
    }
   ],
   "source": [
    "d2*d2"
   ]
  },
  {
   "cell_type": "markdown",
   "id": "b09667e0",
   "metadata": {},
   "source": [
    "$A\\otimes \\overline{B}$ uses the Q rule from King, and returns diagram pairs with first-occurence $N_c$ given in square brackets. In a pair $(C,D)$, the first entry, $C$ is implicitly understood to be barred."
   ]
  },
  {
   "cell_type": "code",
   "execution_count": 12,
   "id": "e42ba81c",
   "metadata": {},
   "outputs": [
    {
     "name": "stderr",
     "output_type": "stream",
     "text": [
      "/home/anduril/Documents/birdtracks/pair_multiplication/pair_multiplication/classes.py:280: UserWarning: Class Pair under construction. Proceed with caution!\n",
      "  warnings.warn('Class Pair under construction. Proceed with caution!')\n"
     ]
    },
    {
     "data": {
      "text/plain": [
       "{[3]((2),(1, 1)): 1, [2]((1),(1)): 1}"
      ]
     },
     "execution_count": 12,
     "metadata": {},
     "output_type": "execute_result"
    }
   ],
   "source": [
    "d1_tensor_d2 = d1*d2\n",
    "d1_tensor_d2"
   ]
  },
  {
   "cell_type": "markdown",
   "id": "7ff4a45f",
   "metadata": {},
   "source": [
    "When adding DirectSums, diagrams (and/or pairs) with the same partition (pair of partitions) are ony stacked if they have the same first occurence:"
   ]
  },
  {
   "cell_type": "code",
   "execution_count": 13,
   "id": "7b239234",
   "metadata": {
    "scrolled": true
   },
   "outputs": [],
   "source": [
    "p1 = Pair(((1),(1)), inherited_N0=3) # a higher first occurence\n",
    "p2 = Pair(((1),(1)))"
   ]
  },
  {
   "cell_type": "code",
   "execution_count": 14,
   "id": "24dd0fd0",
   "metadata": {},
   "outputs": [
    {
     "data": {
      "text/plain": [
       "{[3]((2),(1, 1)): 1, [3]((1),(1)): 1, [2]((1),(1)): 1}"
      ]
     },
     "execution_count": 14,
     "metadata": {},
     "output_type": "execute_result"
    }
   ],
   "source": [
    "sum_p1 = d1_tensor_d2+p1\n",
    "sum_p1"
   ]
  },
  {
   "cell_type": "code",
   "execution_count": 15,
   "id": "b5bb509f",
   "metadata": {},
   "outputs": [
    {
     "data": {
      "text/plain": [
       "{[3]((2),(1, 1)): 1, [2]((1),(1)): 2}"
      ]
     },
     "execution_count": 15,
     "metadata": {},
     "output_type": "execute_result"
    }
   ],
   "source": [
    "sum_p2 = d1_tensor_d2+p2\n",
    "sum_p2"
   ]
  },
  {
   "cell_type": "markdown",
   "id": "bdbf0e92",
   "metadata": {},
   "source": [
    "We can conjugate diagrams for a given $N_c$:"
   ]
  },
  {
   "cell_type": "code",
   "execution_count": 16,
   "id": "dbd40b60",
   "metadata": {},
   "outputs": [
    {
     "data": {
      "text/latex": [
       "$$ \\overline{(1)} $$"
      ],
      "text/plain": [
       "(1)_"
      ]
     },
     "execution_count": 16,
     "metadata": {},
     "output_type": "execute_result"
    }
   ],
   "source": [
    "d1.conjugate(Nc = 3)"
   ]
  },
  {
   "cell_type": "code",
   "execution_count": 17,
   "id": "b9564447",
   "metadata": {},
   "outputs": [
    {
     "name": "stderr",
     "output_type": "stream",
     "text": [
      "/home/anduril/Documents/birdtracks/pair_multiplication/pair_multiplication/classes.py:176: UserWarning: Young diagram pair not admissible under given Nc.Returning null diagram.\n",
      "  warnings.warn('Young diagram pair not admissible under given Nc.'+\\\n"
     ]
    },
    {
     "data": {
      "text/latex": [
       "$$ None $$"
      ],
      "text/plain": [
       "None"
      ]
     },
     "execution_count": 17,
     "metadata": {},
     "output_type": "execute_result"
    }
   ],
   "source": [
    "d1.conjugate(Nc = 1)"
   ]
  },
  {
   "cell_type": "markdown",
   "id": "1f50d6bc",
   "metadata": {},
   "source": [
    "We can conjugate pairs:"
   ]
  },
  {
   "cell_type": "code",
   "execution_count": 19,
   "id": "bcdbb16b",
   "metadata": {},
   "outputs": [
    {
     "data": {
      "text/latex": [
       "$$ (2, 1, 1) $$"
      ],
      "text/plain": [
       "(2, 1, 1)"
      ]
     },
     "execution_count": 19,
     "metadata": {},
     "output_type": "execute_result"
    }
   ],
   "source": [
    "p1.conjugate(Nc=4)"
   ]
  },
  {
   "cell_type": "code",
   "execution_count": 18,
   "id": "651e3082",
   "metadata": {
    "scrolled": true
   },
   "outputs": [
    {
     "name": "stderr",
     "output_type": "stream",
     "text": [
      "/home/anduril/Documents/birdtracks/pair_multiplication/pair_multiplication/classes.py:372: UserWarning: Conjugate not admissible under given Nc.\n",
      "  warnings.warn('Conjugate not admissible under given Nc.')\n"
     ]
    },
    {
     "data": {
      "text/latex": [
       "$$ None $$"
      ],
      "text/plain": [
       "None"
      ]
     },
     "execution_count": 18,
     "metadata": {},
     "output_type": "execute_result"
    }
   ],
   "source": [
    "p1.conjugate(Nc=1)"
   ]
  },
  {
   "cell_type": "markdown",
   "id": "a71ac03a",
   "metadata": {},
   "source": [
    "we can even conjugate DirectSums!"
   ]
  },
  {
   "cell_type": "code",
   "execution_count": 21,
   "id": "46bf5963",
   "metadata": {},
   "outputs": [
    {
     "data": {
      "text/plain": [
       "{(3, 3, 2): 1, (2, 1, 1): 2}"
      ]
     },
     "execution_count": 21,
     "metadata": {},
     "output_type": "execute_result"
    }
   ],
   "source": [
    "sum_p2.conjugate(Nc = 4)"
   ]
  },
  {
   "cell_type": "code",
   "execution_count": 22,
   "id": "bedad255",
   "metadata": {},
   "outputs": [
    {
     "data": {
      "text/plain": [
       "{(2): 2}"
      ]
     },
     "execution_count": 22,
     "metadata": {},
     "output_type": "execute_result"
    }
   ],
   "source": [
    "sum_p2.conjugate(Nc = 2)"
   ]
  },
  {
   "cell_type": "markdown",
   "id": "94f44315",
   "metadata": {},
   "source": [
    "Coming soon:\n",
    "\n",
    " - pair multiplication with diagram (in progress)\n",
    " - pair-pair multiplication (when I figure out how)\n",
    " - better handling of diagram multiplicities\n",
    " - better documentation and testing\n",
    " - more Latexing functions!"
   ]
  },
  {
   "cell_type": "code",
   "execution_count": null,
   "id": "c7747ceb",
   "metadata": {},
   "outputs": [],
   "source": []
  }
 ],
 "metadata": {
  "kernelspec": {
   "display_name": "Python 3 (ipykernel)",
   "language": "python",
   "name": "python3"
  },
  "language_info": {
   "codemirror_mode": {
    "name": "ipython",
    "version": 3
   },
   "file_extension": ".py",
   "mimetype": "text/x-python",
   "name": "python",
   "nbconvert_exporter": "python",
   "pygments_lexer": "ipython3",
   "version": "3.10.11"
  }
 },
 "nbformat": 4,
 "nbformat_minor": 5
}
